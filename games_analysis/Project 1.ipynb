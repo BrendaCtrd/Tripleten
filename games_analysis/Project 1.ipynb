{
 "cells": [
  {
   "cell_type": "markdown",
   "metadata": {},
   "source": [
    "# PROYECTO 1"
   ]
  },
  {
   "cell_type": "markdown",
   "metadata": {
    "tags": [
     "e5c1f0c2-db9f-43a0-99b9-4875c52427e8"
    ]
   },
   "source": [
    "## Descripción de datos\n",
    "— `Name (Nombre)`\n",
    "\n",
    "— `Platform (Plataforma)`\n",
    "\n",
    "— `Year_of_Release (Año de lanzamiento)`\n",
    "\n",
    "— `Genre (Género) `\n",
    "\n",
    "— `NA_sales (ventas en Norteamérica en millones de dólares estadounidenses)` \n",
    "\n",
    "— `EU_sales (ventas en Europa en millones de dólares estadounidenses)` \n",
    "\n",
    "— `JP_sales (ventas en Japón en millones de dólares estadounidenses)` \n",
    "\n",
    "— `Other_sales (ventas en otros países en millones de dólares estadounidenses)`\n",
    "\n",
    "— `Critic_Score (máximo de 100)` \n",
    "\n",
    "— `User_Score (máximo de 10)` \n",
    "\n",
    "— `Rating (ESRB)`\n",
    "\n"
   ]
  },
  {
   "cell_type": "code",
   "execution_count": 3,
   "metadata": {
    "trusted": false
   },
   "outputs": [],
   "source": [
    "# Importación de librería\n",
    "import pandas as pd\n",
    "games_df = pd.read_csv('games.csv')"
   ]
  },
  {
   "cell_type": "markdown",
   "metadata": {},
   "source": [
    "## Preparación de datos"
   ]
  },
  {
   "cell_type": "code",
   "execution_count": 4,
   "metadata": {
    "trusted": false
   },
   "outputs": [
    {
     "name": "stdout",
     "output_type": "stream",
     "text": [
      "<class 'pandas.core.frame.DataFrame'>\n",
      "RangeIndex: 16715 entries, 0 to 16714\n",
      "Data columns (total 11 columns):\n",
      " #   Column           Non-Null Count  Dtype  \n",
      "---  ------           --------------  -----  \n",
      " 0   Name             16713 non-null  object \n",
      " 1   Platform         16715 non-null  object \n",
      " 2   Year_of_Release  16446 non-null  float64\n",
      " 3   Genre            16713 non-null  object \n",
      " 4   NA_sales         16715 non-null  float64\n",
      " 5   EU_sales         16715 non-null  float64\n",
      " 6   JP_sales         16715 non-null  float64\n",
      " 7   Other_sales      16715 non-null  float64\n",
      " 8   Critic_Score     8137 non-null   float64\n",
      " 9   User_Score       10014 non-null  object \n",
      " 10  Rating           9949 non-null   object \n",
      "dtypes: float64(6), object(5)\n",
      "memory usage: 1.4+ MB\n"
     ]
    }
   ],
   "source": [
    "#Indormación general de datos\n",
    "games_df.info()\n"
   ]
  },
  {
   "cell_type": "code",
   "execution_count": 5,
   "metadata": {
    "scrolled": true,
    "trusted": false
   },
   "outputs": [
    {
     "name": "stdout",
     "output_type": "stream",
     "text": [
      "                                       Name Platform  Year_of_Release  \\\n",
      "11342           Gundam Seed: Battle Assault      GBA           2004.0   \n",
      "8762                   NBA Street Homecourt      PS3           2007.0   \n",
      "2116                          Madden NFL 08      PS3           2007.0   \n",
      "10788                              MotoGP 2       XB           2003.0   \n",
      "4851              Naruto: Path of the Ninja       DS           2007.0   \n",
      "5515    Capcom Classics Collection Reloaded      PSP           2006.0   \n",
      "648                Dragon Ball Z: Budokai 2      PS2           2003.0   \n",
      "8768                          Get On Da Mic      PS2           2004.0   \n",
      "7891   Where's Waldo? The Fantastic Journey      Wii           2009.0   \n",
      "14465        Super Meat Boy: Ultra Edition!       PC           2011.0   \n",
      "\n",
      "              Genre  NA_sales  EU_sales  JP_sales  Other_sales  Critic_Score  \\\n",
      "11342      Fighting      0.06      0.02      0.00         0.00           NaN   \n",
      "8762         Sports      0.12      0.01      0.00         0.02          81.0   \n",
      "2116         Sports      0.89      0.00      0.00         0.08          81.0   \n",
      "10788        Racing      0.07      0.02      0.00         0.00          87.0   \n",
      "4851   Role-Playing      0.37      0.00      0.00         0.03          57.0   \n",
      "5515           Misc      0.26      0.00      0.03         0.03          75.0   \n",
      "648        Fighting      1.63      0.22      0.51         0.06          66.0   \n",
      "8768           Misc      0.07      0.06      0.00         0.02          49.0   \n",
      "7891      Adventure      0.17      0.00      0.00         0.01           NaN   \n",
      "14465      Platform      0.00      0.02      0.00         0.01           NaN   \n",
      "\n",
      "      User_Score Rating  \n",
      "11342        NaN    NaN  \n",
      "8762         6.5      E  \n",
      "2116         5.3      E  \n",
      "10788        8.5      E  \n",
      "4851         7.2   E10+  \n",
      "5515         tbd      T  \n",
      "648          8.2      T  \n",
      "8768         6.3      T  \n",
      "7891         tbd      E  \n",
      "14465        NaN    NaN  \n"
     ]
    }
   ],
   "source": [
    "print(games_df.sample(10))"
   ]
  },
  {
   "cell_type": "code",
   "execution_count": 6,
   "metadata": {
    "trusted": false
   },
   "outputs": [
    {
     "name": "stdout",
     "output_type": "stream",
     "text": [
      "Index(['name', 'platform', 'year_of_release', 'genre', 'na_sales', 'eu_sales',\n",
      "       'jp_sales', 'other_sales', 'critic_score', 'user_score', 'rating'],\n",
      "      dtype='object')\n"
     ]
    }
   ],
   "source": [
    "#Cambio de los nombres de las columnas a minúsculas\n",
    "games_df.columns = [column.lower() for column in games_df.columns]\n",
    "print(games_df.columns)"
   ]
  },
  {
   "cell_type": "code",
   "execution_count": 7,
   "metadata": {
    "scrolled": true,
    "trusted": false
   },
   "outputs": [
    {
     "name": "stdout",
     "output_type": "stream",
     "text": [
      "name               0.000120\n",
      "platform           0.000000\n",
      "year_of_release    0.016093\n",
      "genre              0.000120\n",
      "na_sales           0.000000\n",
      "eu_sales           0.000000\n",
      "jp_sales           0.000000\n",
      "other_sales        0.000000\n",
      "critic_score       0.513192\n",
      "user_score         0.400897\n",
      "rating             0.404786\n",
      "dtype: float64\n"
     ]
    }
   ],
   "source": [
    "#Valores ausentes\n",
    "print(games_df.isna().mean())\n"
   ]
  },
  {
   "cell_type": "markdown",
   "metadata": {},
   "source": [
    "* Year of release, tengo faltante ~1.6% del total, no es una cantidad significativa, puedo rellenar con el año más frecuente, es un valor discreto por lo que tiene más sentido usar esto que un promedio.Podría tenerse la ausencia si son juegos más antiguos o menos populares y falte el registro. Por lo mismo que es discreto es mejor manejarlo como entero.\n",
    "\n",
    "* Critic score, tengo faltante un ~51.3%. Es un número significativo que puede deberse a que no hay registro de críticas si no son juegos muy populares. Por alto porcentaje prefiero sólo reemplazar nan por N/I como NO INFORMATION para mantener la integridad de los análisis. Aunque de realizar analisis luego se tendrán que filtrar para poder realizar cálculos.\n",
    "\n",
    "* User score, tengo faltante un ~40%. Tiene tbd quizá porque se aplicó a juegos muy nuevos.La usencia igual podría ser por la falta de interacción con los juegos. Lo mejor es convertir esos valores tbd a nan, finalmente es un valor que no tengo y así podría tratarlo parejo. Por alto porcentaje prefiero sólo reemplazar nan por N/I como NO INFORMATION para mantener la integridad de los análisis, igual que arriba.\n",
    "\n",
    "* Rating,tengo faltante un ~40%. Pueden existir juegos sin clasificación ya sea porque son viejos o porque no son desarrollados por las principales compañias. Lo mejor es rellenar con \"N/A\" para mantener las filas.\n"
   ]
  },
  {
   "cell_type": "code",
   "execution_count": 8,
   "metadata": {
    "trusted": false
   },
   "outputs": [
    {
     "name": "stdout",
     "output_type": "stream",
     "text": [
      "0\n"
     ]
    }
   ],
   "source": [
    "# Contar duplicados explícitos\n",
    "print(games_df.duplicated().sum())"
   ]
  },
  {
   "cell_type": "code",
   "execution_count": 9,
   "metadata": {
    "trusted": false
   },
   "outputs": [],
   "source": [
    "#Relleno de valores faltantes\n",
    "games_df['year_of_release'] = games_df['year_of_release'].fillna(games_df['year_of_release'].mode()[0])\n",
    "\n",
    "#Conversión a entero\n",
    "games_df['year_of_release'] = games_df['year_of_release'].astype('Int64')"
   ]
  },
  {
   "cell_type": "code",
   "execution_count": 10,
   "metadata": {
    "trusted": false
   },
   "outputs": [],
   "source": [
    "#Conversión de tbd a Nan\n",
    "import numpy as np\n",
    "games_df['user_score'] = games_df['user_score'].replace('tbd', np.nan)\n",
    "games_df['user_score'] = pd.to_numeric(games_df['user_score'], errors='coerce')"
   ]
  },
  {
   "cell_type": "code",
   "execution_count": 11,
   "metadata": {
    "trusted": false
   },
   "outputs": [],
   "source": [
    "# Rellenar los valores faltantes con \"N/A\" (Not applicable) o \"N/I\" (No information) \n",
    "games_df['rating'] = games_df['rating'].fillna('N/A')\n",
    "games_df['name'] = games_df['name'].fillna('N/I')\n",
    "games_df['genre'] = games_df['genre'].fillna('N/I')\n",
    "games_df['critic_score'] = games_df['critic_score'].fillna('N/I')\n",
    "games_df['user_score'] = games_df['user_score'].fillna('N/I')\n"
   ]
  },
  {
   "cell_type": "code",
   "execution_count": 12,
   "metadata": {
    "trusted": false
   },
   "outputs": [
    {
     "name": "stdout",
     "output_type": "stream",
     "text": [
      "name               0\n",
      "platform           0\n",
      "year_of_release    0\n",
      "genre              0\n",
      "na_sales           0\n",
      "eu_sales           0\n",
      "jp_sales           0\n",
      "other_sales        0\n",
      "critic_score       0\n",
      "user_score         0\n",
      "rating             0\n",
      "dtype: int64\n"
     ]
    }
   ],
   "source": [
    "#Comprobación de valores ausentes\n",
    "print(games_df.isna().sum())"
   ]
  },
  {
   "cell_type": "markdown",
   "metadata": {},
   "source": [
    "## Análisis de datos"
   ]
  },
  {
   "cell_type": "code",
   "execution_count": 13,
   "metadata": {
    "trusted": false
   },
   "outputs": [
    {
     "name": "stdout",
     "output_type": "stream",
     "text": [
      "                       name  total_sales\n",
      "0                Wii Sports        82.54\n",
      "1         Super Mario Bros.        40.24\n",
      "2            Mario Kart Wii        35.52\n",
      "3         Wii Sports Resort        32.77\n",
      "4  Pokemon Red/Pokemon Blue        31.38\n"
     ]
    }
   ],
   "source": [
    "#Calculo de ventas totales por juego\n",
    "games_df['total_sales'] = games_df[['na_sales', 'eu_sales', 'jp_sales', 'other_sales']].sum(axis=1)\n",
    "print(games_df[['name', 'total_sales']].head())"
   ]
  },
  {
   "cell_type": "code",
   "execution_count": 14,
   "metadata": {
    "trusted": false
   },
   "outputs": [
    {
     "name": "stdout",
     "output_type": "stream",
     "text": [
      "year_of_release\n",
      "1980       9\n",
      "1981      46\n",
      "1982      36\n",
      "1983      17\n",
      "1984      14\n",
      "1985      14\n",
      "1986      21\n",
      "1987      16\n",
      "1988      15\n",
      "1989      17\n",
      "1990      16\n",
      "1991      41\n",
      "1992      43\n",
      "1993      62\n",
      "1994     121\n",
      "1995     219\n",
      "1996     263\n",
      "1997     289\n",
      "1998     379\n",
      "1999     338\n",
      "2000     350\n",
      "2001     482\n",
      "2002     829\n",
      "2003     775\n",
      "2004     762\n",
      "2005     939\n",
      "2006    1006\n",
      "2007    1197\n",
      "2008    1696\n",
      "2009    1426\n",
      "2010    1255\n",
      "2011    1136\n",
      "2012     653\n",
      "2013     544\n",
      "2014     581\n",
      "2015     606\n",
      "2016     502\n",
      "Name: count, dtype: Int64\n"
     ]
    }
   ],
   "source": [
    "#Calculo de juegos lanzados por años\n",
    "games_by_year = games_df['year_of_release'].value_counts().sort_index()\n",
    "print(games_by_year)"
   ]
  },
  {
   "cell_type": "code",
   "execution_count": 15,
   "metadata": {
    "trusted": false
   },
   "outputs": [
    {
     "name": "stdout",
     "output_type": "stream",
     "text": [
      "platform\n",
      "PS2     1255.77\n",
      "X360     971.42\n",
      "PS3      939.65\n",
      "Wii      907.51\n",
      "DS       806.12\n",
      "PS       730.86\n",
      "GBA      317.85\n",
      "PS4      314.14\n",
      "PSP      294.05\n",
      "PC       259.52\n",
      "Name: total_sales, dtype: float64\n"
     ]
    }
   ],
   "source": [
    "#Ventas de todas las regiones para cada plataforma\n",
    "games_df['total_sales'] = games_df[['na_sales', 'eu_sales', 'jp_sales', 'other_sales']].sum(axis=1)\n",
    "platform_sales = games_df.groupby('platform')['total_sales'].sum()\n",
    "platform_sales_sorted = platform_sales.sort_values(ascending=False).head(10)\n",
    "print(platform_sales_sorted)"
   ]
  },
  {
   "cell_type": "code",
   "execution_count": 16,
   "metadata": {
    "trusted": false
   },
   "outputs": [
    {
     "name": "stdout",
     "output_type": "stream",
     "text": [
      "                          na_sales  eu_sales  jp_sales  other_sales  \\\n",
      "platform year_of_release                                              \n",
      "DS       1985                 0.00      0.00      0.02         0.00   \n",
      "         2004                 8.33      3.93      3.65         1.36   \n",
      "         2005                47.99     41.49     29.86        10.80   \n",
      "         2006                50.01     23.07     38.56         8.17   \n",
      "         2007                75.25     33.79     26.81        11.09   \n",
      "...                            ...       ...       ...          ...   \n",
      "X360     2012                58.39     32.00      1.06         8.29   \n",
      "         2013                53.36     27.03      0.43         7.76   \n",
      "         2014                20.25     11.28      0.08         3.13   \n",
      "         2015                 7.36      3.50      0.00         1.10   \n",
      "         2016                 0.69      0.71      0.00         0.12   \n",
      "\n",
      "                          total_sales  \n",
      "platform year_of_release               \n",
      "DS       1985                    0.02  \n",
      "         2004                   17.27  \n",
      "         2005                  130.14  \n",
      "         2006                  119.81  \n",
      "         2007                  146.94  \n",
      "...                               ...  \n",
      "X360     2012                   99.74  \n",
      "         2013                   88.58  \n",
      "         2014                   34.74  \n",
      "         2015                   11.96  \n",
      "         2016                    1.52  \n",
      "\n",
      "[119 rows x 5 columns]\n"
     ]
    }
   ],
   "source": [
    "platform_year_sales = games_df.groupby(['platform', 'year_of_release'])[['na_sales', 'eu_sales', 'jp_sales', 'other_sales']].sum()\n",
    "platform_year_sales['total_sales'] = platform_year_sales.sum(axis=1)\n",
    "platform_sales_total = platform_year_sales.groupby('platform')['total_sales'].sum()\n",
    "platform_sales_sorted = platform_sales_total.sort_values(ascending=False)\n",
    "top_10_platforms = platform_sales_sorted.head(10)\n",
    "platform_yearly_sales = platform_year_sales[platform_year_sales.index.get_level_values('platform').isin(top_10_platforms.index)]\n",
    "print(platform_yearly_sales)"
   ]
  },
  {
   "cell_type": "code",
   "execution_count": 21,
   "metadata": {
    "trusted": false
   },
   "outputs": [
    {
     "data": {
      "text/plain": [
       "Text(0, 0.5, 'Total Sales (millions of US dollars)')"
      ]
     },
     "execution_count": 21,
     "metadata": {},
     "output_type": "execute_result"
    },
    {
     "data": {
      "image/png": "[encoded data removed]",
      "text/plain": [
       "<Figure size 640x480 with 1 Axes>"
      ]
     },
     "metadata": {},
     "output_type": "display_data"
    }
   ],
   "source": [
    "import seaborn as sns\n",
    "import matplotlib.pyplot as plt\n",
    "\n",
    "plt.style.use('seaborn-v0_8-bright')\n",
    "sns.lineplot(x=\"year_of_release\", y=\"total_sales\", hue=\"platform\", data=platform_yearly_sales);\n",
    "plt.title('Sales per Year of the Most Popular Platforms')\n",
    "plt.xlabel('Year')\n",
    "plt.ylabel('Total Sales (millions of US dollars)')"
   ]
  },
  {
   "cell_type": "code",
   "execution_count": 22,
   "metadata": {
    "trusted": false
   },
   "outputs": [
    {
     "name": "stdout",
     "output_type": "stream",
     "text": [
      "           min   max  years_of_life\n",
      "platform                           \n",
      "2600      1980  2008             28\n",
      "NES       1983  1994             11\n",
      "PC        1985  2016             31\n",
      "DS        1985  2013             28\n",
      "GB        1988  2008             20\n",
      "GEN       1990  1994              4\n",
      "SNES      1990  1999              9\n",
      "GG        1992  1992              0\n",
      "SCD       1993  1994              1\n",
      "NG        1993  1996              3\n",
      "3DO       1994  1995              1\n",
      "PS        1994  2008             14\n",
      "SAT       1994  1999              5\n",
      "TG16      1995  1995              0\n",
      "N64       1996  2008             12\n",
      "PCFX      1996  1996              0\n",
      "DC        1998  2008             10\n",
      "WS        1999  2001              2\n",
      "GBA       2000  2008              8\n",
      "XB        2000  2008              8\n",
      "PS2       2000  2011             11\n",
      "GC        2001  2008              7\n",
      "PSP       2004  2015             11\n",
      "X360      2005  2016             11\n",
      "PS3       2006  2016             10\n",
      "Wii       2006  2016             10\n",
      "3DS       2008  2016              8\n",
      "PSV       2008  2016              8\n",
      "WiiU      2012  2016              4\n",
      "PS4       2013  2016              3\n",
      "XOne      2013  2016              3\n"
     ]
    }
   ],
   "source": [
    "#Años en los que tardan generalmente las nuevas plataformas en aparecer y las antiguas en desaparecer\n",
    "platform_life = games_df.groupby('platform')['year_of_release'].agg(['min', 'max'])\n",
    "\n",
    "platform_life['years_of_life'] = platform_life['max'] - platform_life['min']\n",
    "platform_life_sorted = platform_life.sort_values(by='min')\n",
    "print(platform_life_sorted)"
   ]
  },
  {
   "cell_type": "markdown",
   "metadata": {},
   "source": [
    "La primeras 5 plataformas duraron más de 10 años de uso en el mercado, donde la PC es aún utilizada, llevando 31 años en el mercado. Donde los 5 más nuevas plataformas introducidas al mercado llevan menos de 10 años siendo utilizadas, siendo las más nuevas el PS4 y Xone con 3 años.\n",
    "Hay plataformas que muestran un 0 que se podría suponer debido a que su uso fue de meses, dentro del mismo año como es para GG, TG16 y PCFX, seguramente fueron un fracaso en el mercado y fueron descontinuadas.\n",
    "\n",
    "En la gráfica se observa:\n",
    "\n",
    "* El DS, tuvo un pico de ventas notable alrededor de 2007-2008 pero sus ventas cayeron rápidamente para el ~2009.\n",
    "\n",
    "* El GBA, entro al mercado por el 2000, tuvo ventas arriba de 50 millones de dolares pero sus ventas cayeron y su ciclo de vida termino en el 2008.\n",
    "\n",
    "* La PC, ha tenido un ciclo de vida prolongado, con ventas bajas a comparación de otras consolas, con un aumento después del 2006.\n",
    "\n",
    "* El PS, tuvo un rápido incremento de ventas luego de su introducción al mercado pero después de ~1997, sus ventas empezaron a caer, manteniéndose con un bajo nivel hasta el 2008.\n",
    "\n",
    "* El PS2, el más exitoso en ventas, ha tenido picos de ventas arriba de 200 millones de dolares, con un ciclo de vida de 11 años, terminando en el 2011.\n",
    "\n",
    "* El PS3, ha estado en el mercado desde el 2006, tuvo buenas ventas en el ~2012, muy parecidas al X360, igual sus ventas han caído y podría enfrentar la obsolescencia.\n",
    "\n",
    "* El PS4, ha estado en el mercado desde el 2013, tuvieron un pico de ventas en el ~2015 pero parece que las ventas están cayendo.\n",
    "\n",
    "* El PSP, su ciclo de vida comienza en el 2004 y termina en el 2015, no tuvo ventas tan significativas como las otras consolas.\n",
    "\n",
    "* El Wii,ha estado en el mercado desde el 2006, sus ventas rápidamente aumentaron a los ~200 millones de dólares, pero después de eso han caído rápidamente.\n",
    "\n",
    "* El X360, ha estado en el mercado desde el 2005, tuvo un pico de ventas arriba de 150 millones de dólares por el ~2011, después de eso sus ventas han caído, podría enfrentar la obsolescencia."
   ]
  },
  {
   "cell_type": "code",
   "execution_count": 25,
   "metadata": {
    "trusted": false
   },
   "outputs": [
    {
     "data": {
      "image/png": "[encoded data removed]",
      "text/plain": [
       "<Figure size 640x480 with 1 Axes>"
      ]
     },
     "metadata": {},
     "output_type": "display_data"
    }
   ],
   "source": [
    "#Creación de de diagrama de ventas globales por plataforma\n",
    "platform_yearly_sales_reset = platform_yearly_sales.reset_index()\n",
    "sns.boxplot(x=\"platform\", y=\"total_sales\", hue=\"platform\", data=platform_yearly_sales_reset)\n",
    "sns.stripplot(x=\"platform\", y=\"total_sales\", hue=\"platform\", data=platform_yearly_sales_reset, dodge=True)\n",
    "plt.title('Total Sales Distribution by Platform (Top 10)')\n",
    "plt.xlabel('Plataform')\n",
    "plt.ylabel('Total Sales (in millions of USD)')\n",
    "plt.show()\n"
   ]
  },
  {
   "cell_type": "markdown",
   "metadata": {},
   "source": [
    "El máximo del PS2 indica que fue la plataforma con mayores ventas pero la altura de la caja (IQR) también denota que hubo una mayor dispersión en las ventas. A pesar de tener el valor máximo de ventas, podemos observar que la mediana del PS3 fue más alta e inclusive se ve parecida a la de X360.\n",
    "El Wii de igual manera tuvo una dispersión grande de ventas, donde su valor máximo de  ventas estuvo muy cercano al PS2, pero su misma dispersión hace que su mediana sea más baja.\n",
    "El DS muestra una mediana de ventas cercana al PS2, PS4, X360. Pero la caja es relativamente corta, lo que sugiere que la mayoría de los juegos tuvieron ventas dentro de un rango más estrecho en comparación con PS2 o Wii.\n",
    "El PC tiene una mediana de ventas relativamente baja y una dispersión menor en comparación con las consolas."
   ]
  },
  {
   "cell_type": "markdown",
   "metadata": {},
   "source": []
  },
  {
   "cell_type": "code",
   "execution_count": 31,
   "metadata": {
    "trusted": false
   },
   "outputs": [
    {
     "name": "stdout",
     "output_type": "stream",
     "text": [
      "platform\n",
      "PS2     104.647500\n",
      "PS3      85.422727\n",
      "Wii      82.500909\n",
      "X360     80.951667\n",
      "PS4      78.535000\n",
      "DS       73.283636\n",
      "PS       66.441818\n",
      "GBA      35.316667\n",
      "PSP      24.504167\n",
      "PC        9.981538\n",
      "Name: total_sales, dtype: float64\n"
     ]
    },
    {
     "data": {
      "image/png": "[encoded data removed]",
      "text/plain": [
       "<Figure size 640x480 with 1 Axes>"
      ]
     },
     "metadata": {},
     "output_type": "display_data"
    }
   ],
   "source": [
    "#Ventas globales promedio por plataforma \n",
    "\n",
    "platform_mean_total_sales = platform_yearly_sales_reset.groupby('platform')['total_sales'].mean()\n",
    "\n",
    "platform_mean_total_sales_sorted = platform_mean_total_sales.sort_values(ascending=False)\n",
    "\n",
    "print(platform_mean_total_sales_sorted)\n",
    "colors = sns.color_palette('husl', n_colors=len(platform_mean_total_sales_sorted))\n",
    "\n",
    "platform_mean_total_sales_sorted.plot(x='platform',\n",
    "        kind='bar',\n",
    "        color=colors,\n",
    "        title='Average global sales per platform',\n",
    "        xlabel='Platform',\n",
    "        ylabel='Mean Sales (in millions of USD)'\n",
    "        )\n",
    "plt.show()        "
   ]
  },
  {
   "cell_type": "markdown",
   "metadata": {},
   "source": []
  },
  {
   "cell_type": "markdown",
   "metadata": {},
   "source": [
    "Por mediana de las ventas totales, podemos observar en la gráfica boxplot que el orden es PS3, X360, PS2, DS, PS4, Wii, PSS, GBA, PSP, PC.\n",
    "\n",
    "En la gráfica de barras podemos observar que el promedio las lleva a tener las plataformas en el siguiente orden: PS2, PS3, Wii, X360, PS4, DS,PS, GBA, PSP, PC.\n",
    "\n",
    "Esta variación debido a la dispersión de datos que se menciona anteriormente, que cajas como del PS2, WII, DS y PD tienen. \n",
    "\n",
    "Por esta dispersión de datos es más confiable representar los datos con la mediana.\n",
    "\n",
    "    "
   ]
  },
  {
   "cell_type": "code",
   "execution_count": 33,
   "metadata": {
    "scrolled": true,
    "trusted": false
   },
   "outputs": [
    {
     "data": {
      "image/png": "[encoded data removed]",
      "text/plain": [
       "<Figure size 640x480 with 1 Axes>"
      ]
     },
     "metadata": {},
     "output_type": "display_data"
    },
    {
     "name": "stdout",
     "output_type": "stream",
     "text": [
      "Correlation between Critic Score and Sales: 0.4772342313214961\n",
      "Correlation between User Score and Sales: 0.2167793008798788\n"
     ]
    }
   ],
   "source": [
    "# Afectación de reseñas de usuarios y profesionales a las ventas de una plataforma popular \n",
    "selected_platform = 'PS2'\n",
    "\n",
    "games_df['critic_score'] = pd.to_numeric(games_df['critic_score'], errors='coerce')\n",
    "games_df['user_score'] = pd.to_numeric(games_df['user_score'], errors='coerce')\n",
    "\n",
    "platform_data = games_df[games_df['platform'] == selected_platform]\n",
    "\n",
    "sns.scatterplot(x='critic_score', y='total_sales', data=platform_data, color='blue', label='Critic Score')\n",
    "\n",
    "sns.scatterplot(x='user_score', y='total_sales', data=platform_data, color='green', label='User Score')\n",
    "\n",
    "plt.title(f'Ratio of Reviews to Sales for {selected_platform}')\n",
    "plt.xlabel('Review Score')\n",
    "plt.ylabel('Total Sales (in millions of USD)')\n",
    "plt.legend()\n",
    "plt.show()\n",
    "\n",
    "critic_corr_spearman = platform_data['critic_score'].corr(platform_data['total_sales'], method='spearman')\n",
    "user_corr_spearman = platform_data['user_score'].corr(platform_data['total_sales'], method='spearman')\n",
    "\n",
    "print(f\"Correlation between Critic Score and Sales: {critic_corr_spearman}\")\n",
    "print(f\"Correlation between User Score and Sales: {user_corr_spearman}\")"
   ]
  },
  {
   "cell_type": "markdown",
   "metadata": {},
   "source": [
    "Critic score y Ventas\n",
    "\n",
    "La correlación de 0.3954 indica una correlación positiva débil.Hay una tendencia a que los juegos mejor valorados por la crítica vendan más, pero esta relación no es muy fuerte ni directa. Esto se puede observar en el gráfico, hay juegos que obtivieron una puntuación alta y tuvieron altas ventas, al igual que juegos que tuvieron una puntuación baja y ventas baja, sin embargo no está muy remarcado como una relación directa positiva. \n",
    "\n",
    "User Score y ventas\n",
    "\n",
    "La relación es muy débil con un coeficiente de 0.17. Donde se puede interpretar que la puntuación de los usuarios tiene una influencia mucho menor en las ventas totales en comparación con la opinión de los críticos."
   ]
  },
  {
   "cell_type": "code",
   "execution_count": 34,
   "metadata": {
    "scrolled": true,
    "trusted": false
   },
   "outputs": [
    {
     "name": "stdout",
     "output_type": "stream",
     "text": [
      "platform                         DS   GBA    GC    PC    PS2   PS3  X360    XB\n",
      "name                                                                          \n",
      "Final Fantasy X                 NaN   NaN   NaN   NaN   8.04   NaN   NaN   NaN\n",
      "Gran Turismo 3: A-Spec          NaN   NaN   NaN   NaN  14.97   NaN   NaN   NaN\n",
      "Gran Turismo 4                  NaN   NaN   NaN   NaN  11.65   NaN   NaN   NaN\n",
      "Grand Theft Auto III            NaN   NaN   NaN  0.01  13.10   NaN   NaN   NaN\n",
      "Grand Theft Auto: San Andreas   NaN   NaN   NaN  0.97  20.81   NaN  0.11  1.96\n",
      "Grand Theft Auto: Vice City     NaN   NaN   NaN  0.04  16.15   NaN   NaN   NaN\n",
      "Kingdom Hearts                  NaN   NaN   NaN   NaN   6.40  1.74   NaN   NaN\n",
      "Medal of Honor: Frontline       NaN   NaN  0.60   NaN   6.84   NaN   NaN  1.49\n",
      "Need for Speed Underground      NaN  0.30  1.21  0.05   7.20   NaN   NaN  1.71\n",
      "Need for Speed Underground 2   0.14  0.44  1.13  0.07   6.90   NaN   NaN  2.28\n"
     ]
    },
    {
     "data": {
      "image/png": "[encoded data removed]",
      "text/plain": [
       "<Figure size 1400x800 with 1 Axes>"
      ]
     },
     "metadata": {},
     "output_type": "display_data"
    }
   ],
   "source": [
    "# Obtención de juegos más vendidos en PS2 y comparación de ventas en otras plataformas\n",
    "ps2_top_selling_games = platform_data.groupby('name')['total_sales'].sum().sort_values(ascending=False).head(10)\n",
    "\n",
    "platform_comparison = games_df[games_df['name'].isin(ps2_top_selling_games.index)]\n",
    "platform_comparison = platform_comparison[['platform', 'name', 'total_sales']]\n",
    "\n",
    "platform_comparison_pivot = platform_comparison.pivot_table(index='name', columns='platform', values='total_sales', aggfunc='sum')\n",
    "\n",
    "print(platform_comparison_pivot)\n",
    "\n",
    "platform_comparison_pivot.plot(kind='bar',  figsize=(14, 8))\n",
    "plt.title('Sales comparison of the 10 best-selling PS2 games vs other platforms')\n",
    "plt.xlabel('Game')\n",
    "plt.ylabel('Total Sales (in millions of USD)')\n",
    "plt.xticks(rotation=45)\n",
    "plt.legend(title='Plataform')\n",
    "plt.show()"
   ]
  },
  {
   "cell_type": "markdown",
   "metadata": {},
   "source": [
    "Como se puede observar, entre los juegos más vendidos del PS2, se puede ver que Final Fantasy X, Gran Turismo 3: A-Spec, Gran Turismo 4, sólo tuvieron ventas registradas para el PS2.\n",
    "La venta más alta para el PS2 fue la del videojuego Grand Theft Auto: San Andreas, el cual también fue vendido en PC, PS2, X360 y XB.\n",
    "Mientras que Need for Speed Underground 2  fue vendido en más plataformas siendo vendido en DS, GBA, GC, PC, PS2 y XB.\n"
   ]
  },
  {
   "cell_type": "code",
   "execution_count": 35,
   "metadata": {
    "trusted": false
   },
   "outputs": [
    {
     "name": "stdout",
     "output_type": "stream",
     "text": [
      "Ventas por género:\n",
      "               total_sales\n",
      "genre                    \n",
      "Action            1744.17\n",
      "Sports            1331.27\n",
      "Shooter           1052.45\n",
      "Role-Playing       934.56\n",
      "Platform           827.77\n",
      "Misc               802.51\n",
      "Racing             728.67\n",
      "Fighting           447.53\n",
      "Simulation         389.97\n",
      "Puzzle             242.57\n",
      "Adventure          237.59\n",
      "Strategy           174.23\n",
      "\n",
      "Cantidad de juegos por género:\n",
      " genre\n",
      "Action          3369\n",
      "Sports          2348\n",
      "Misc            1750\n",
      "Role-Playing    1498\n",
      "Shooter         1323\n",
      "Adventure       1303\n",
      "Racing          1249\n",
      "Platform         888\n",
      "Simulation       873\n",
      "Fighting         849\n",
      "Strategy         683\n",
      "Puzzle           580\n",
      "Name: name, dtype: int64\n"
     ]
    },
    {
     "name": "stderr",
     "output_type": "stream",
     "text": [
      "C:\\Users\\brend\\AppData\\Local\\Temp\\ipykernel_15008\\1937683150.py:14: FutureWarning: \n",
      "\n",
      "Passing `palette` without assigning `hue` is deprecated and will be removed in v0.14.0. Assign the `x` variable to `hue` and set `legend=False` for the same effect.\n",
      "\n",
      "  sns.barplot(x=genre_sales.index, y=genre_sales['total_sales'], palette='viridis')\n"
     ]
    },
    {
     "data": {
      "image/png": "[encoded data removed]",
      "text/plain": [
       "<Figure size 1400x800 with 1 Axes>"
      ]
     },
     "metadata": {},
     "output_type": "display_data"
    },
    {
     "name": "stderr",
     "output_type": "stream",
     "text": [
      "C:\\Users\\brend\\AppData\\Local\\Temp\\ipykernel_15008\\1937683150.py:23: FutureWarning: \n",
      "\n",
      "Passing `palette` without assigning `hue` is deprecated and will be removed in v0.14.0. Assign the `x` variable to `hue` and set `legend=False` for the same effect.\n",
      "\n",
      "  sns.barplot(x=genre_counts.index, y=genre_counts.values, palette='viridis')\n"
     ]
    },
    {
     "data": {
      "image/png": "[encoded data removed]",
      "text/plain": [
       "<Figure size 1400x800 with 1 Axes>"
      ]
     },
     "metadata": {},
     "output_type": "display_data"
    }
   ],
   "source": [
    "#Distribución general de las ventas totales por género\n",
    "\n",
    "filtered_genre_df = games_df[games_df['genre'] != 'N/I']\n",
    "genre_sales = filtered_genre_df.groupby('genre')[['total_sales']].sum().sort_values(by='total_sales', ascending=False)\n",
    "\n",
    "# Cantidad de juegos por género\n",
    "genre_counts = filtered_genre_df.groupby('genre')['name'].count()\n",
    "genre_counts = genre_counts.sort_values(ascending=False)\n",
    "\n",
    "print(\"Ventas por género:\\n\", genre_sales)\n",
    "print(\"\\nCantidad de juegos por género:\\n\", genre_counts)\n",
    "\n",
    "plt.figure(figsize=(14, 8))\n",
    "sns.barplot(x=genre_sales.index, y=genre_sales['total_sales'], palette='viridis')\n",
    "plt.title('Total Sales by Gender')\n",
    "plt.xlabel('Genre')\n",
    "plt.ylabel('Total Sales (in millions of USD)')\n",
    "plt.xticks(rotation=45)\n",
    "plt.tight_layout()\n",
    "plt.show()\n",
    "\n",
    "plt.figure(figsize=(14, 8))\n",
    "sns.barplot(x=genre_counts.index, y=genre_counts.values, palette='viridis')\n",
    "plt.title('Number of Games by Genre')\n",
    "plt.xlabel('Genre')\n",
    "plt.ylabel('Quantity of games')\n",
    "plt.xticks(rotation=45)\n",
    "plt.tight_layout()\n",
    "plt.show()"
   ]
  },
  {
   "cell_type": "markdown",
   "metadata": {},
   "source": [
    "Se observa que por género el líder en ventas es action por lo que tiene sentido que haya mayor cantidad de juegos del mismo. Lo mismo pasa con Sports, tiene alto número de ventas y existe una alta cantidad de juegos.\n",
    "Estrategia y puzzle tienen menos lanzamientos y generan menos ventas totales.\n",
    "La popularidad y el potencial de ingresos de un género pueden influir en la cantidad de juegos que se desarrollan y lanzan para ese género. Los desarrolladores tienden a invertir más en géneros que han demostrado ser comercialmente exitosos."
   ]
  },
  {
   "cell_type": "markdown",
   "metadata": {},
   "source": [
    "## Creación de un perfil de usuario para cada región"
   ]
  },
  {
   "cell_type": "code",
   "execution_count": 36,
   "metadata": {
    "trusted": false
   },
   "outputs": [
    {
     "name": "stdout",
     "output_type": "stream",
     "text": [
      "Top 5 plataformas en NA (Ventas en Norteamérica):\n",
      " platform\n",
      "X360    602.47\n",
      "PS2     583.84\n",
      "Wii     496.90\n",
      "PS3     393.49\n",
      "DS      382.40\n",
      "Name: na_sales, dtype: float64\n",
      "\n",
      "Top 5 plataformas en EU (Ventas en Europa):\n",
      " platform\n",
      "PS2     339.29\n",
      "PS3     330.29\n",
      "X360    270.76\n",
      "Wii     262.21\n",
      "PS      213.61\n",
      "Name: eu_sales, dtype: float64\n",
      "\n",
      "Top 5 plataformas en JP (Ventas en Japón):\n",
      " platform\n",
      "DS      175.57\n",
      "PS      139.82\n",
      "PS2     139.20\n",
      "SNES    116.55\n",
      "3DS     100.67\n",
      "Name: jp_sales, dtype: float64\n"
     ]
    }
   ],
   "source": [
    "# Las cinco plataformas principales por región (NA, UE, JP) \n",
    "top_platforms_na = games_df.groupby('platform')['na_sales'].sum().sort_values(ascending=False).head(5)\n",
    "\n",
    "top_platforms_eu = games_df.groupby('platform')['eu_sales'].sum().sort_values(ascending=False).head(5)\n",
    "\n",
    "top_platforms_jp = games_df.groupby('platform')['jp_sales'].sum().sort_values(ascending=False).head(5)\n",
    "\n",
    "# Mostrar resultados\n",
    "print(\"Top 5 plataformas en NA (Ventas en Norteamérica):\\n\", top_platforms_na)\n",
    "print(\"\\nTop 5 plataformas en EU (Ventas en Europa):\\n\", top_platforms_eu)\n",
    "print(\"\\nTop 5 plataformas en JP (Ventas en Japón):\\n\", top_platforms_jp)\n"
   ]
  },
  {
   "cell_type": "markdown",
   "metadata": {},
   "source": [
    "Para cada región la plataforma con más ventas registradas varia, aunque se puede observar que en NA y EU, el PS2 es de los 2 primeros que lidera las ventas.\n",
    "Entre NA y EU vemos que 4 de las plataformas más vendidas coniciden, aunque no en el mismo orden de venta. A diferencia con JP dónde vemos plataformas como el SNES y 3DS las cuales no vemos en las otras dos regiones."
   ]
  },
  {
   "cell_type": "code",
   "execution_count": 37,
   "metadata": {
    "scrolled": true,
    "trusted": false
   },
   "outputs": [
    {
     "name": "stdout",
     "output_type": "stream",
     "text": [
      "Top 5 géneros en NA (Ventas en Norteamérica):\n",
      " genre\n",
      "Action      879.01\n",
      "Sports      684.43\n",
      "Shooter     592.24\n",
      "Platform    445.50\n",
      "Misc        407.27\n",
      "Name: na_sales, dtype: float64\n",
      "\n",
      "Top 5 géneros en EU (Ventas en Europa):\n",
      " genre\n",
      "Action     519.13\n",
      "Sports     376.79\n",
      "Shooter    317.34\n",
      "Racing     236.51\n",
      "Misc       212.74\n",
      "Name: eu_sales, dtype: float64\n",
      "\n",
      "Top 5 géneros en JP (Ventas en Japón):\n",
      " genre\n",
      "Role-Playing    355.41\n",
      "Action          161.43\n",
      "Sports          135.54\n",
      "Platform        130.83\n",
      "Misc            108.11\n",
      "Name: jp_sales, dtype: float64\n"
     ]
    }
   ],
   "source": [
    "#Los 5 géneros principales por región (NA, UE, JP) \n",
    "top_genres_na = games_df.groupby('genre')['na_sales'].sum().sort_values(ascending=False).head(5)\n",
    "\n",
    "top_genres_eu = games_df.groupby('genre')['eu_sales'].sum().sort_values(ascending=False).head(5)\n",
    "\n",
    "top_genres_jp = games_df.groupby('genre')['jp_sales'].sum().sort_values(ascending=False).head(5)\n",
    "\n",
    "print(\"Top 5 géneros en NA (Ventas en Norteamérica):\\n\", top_genres_na)\n",
    "print(\"\\nTop 5 géneros en EU (Ventas en Europa):\\n\", top_genres_eu)\n",
    "print(\"\\nTop 5 géneros en JP (Ventas en Japón):\\n\", top_genres_jp)"
   ]
  },
  {
   "cell_type": "markdown",
   "metadata": {},
   "source": [
    "A excepción de JP dónde tiene el segundo lugar, podemos ver que por genéro, action, lidera en las regiones.\n",
    "En NA y EU, los 3 primeros lugares y el 5° coinciden, siendo action, sports, shooter y misc.\n",
    "JP, tiene en primer lugar Role-Playing, que no figura en las otras regiones en el top 5. Pero tiene al igual action, sports aunque en segundo y tercer lugar y misc igual en 5° lugar.\n"
   ]
  },
  {
   "cell_type": "code",
   "execution_count": 24,
   "metadata": {
    "trusted": false
   },
   "outputs": [
    {
     "name": "stdout",
     "output_type": "stream",
     "text": [
      "Ventas por clasificación ESRB en NA (Norteamérica):\n",
      " rating\n",
      "E       1292.99\n",
      "T        759.75\n",
      "M        748.48\n",
      "E10+     353.32\n",
      "K-A        2.56\n",
      "Name: na_sales, dtype: float64\n",
      "\n",
      "Ventas por clasificación ESRB en EU (Europa):\n",
      " rating\n",
      "E       710.25\n",
      "M       483.97\n",
      "T       427.03\n",
      "E10+    188.52\n",
      "AO        0.61\n",
      "Name: eu_sales, dtype: float64\n",
      "\n",
      "Ventas por clasificación ESRB en JP (Japón):\n",
      " rating\n",
      "E       198.11\n",
      "T       151.40\n",
      "M        64.24\n",
      "E10+     40.20\n",
      "K-A       1.46\n",
      "Name: jp_sales, dtype: float64\n"
     ]
    }
   ],
   "source": [
    "#Afectación de clasificaciones de ESRB a las ventas en regiones (NA, UE, JP) \n",
    "filtered_games_df = games_df[games_df['rating'] != 'N/A']\n",
    "\n",
    "esrb_sales_na = filtered_games_df.groupby('rating')['na_sales'].sum().sort_values(ascending=False).head(5)\n",
    "\n",
    "esrb_sales_eu = filtered_games_df.groupby('rating')['eu_sales'].sum().sort_values(ascending=False).head(5)\n",
    "\n",
    "esrb_sales_jp = filtered_games_df.groupby('rating')['jp_sales'].sum().sort_values(ascending=False).head(5)\n",
    "\n",
    "print(\"Ventas por clasificación ESRB en NA (Norteamérica):\\n\", esrb_sales_na)\n",
    "print(\"\\nVentas por clasificación ESRB en EU (Europa):\\n\", esrb_sales_eu)\n",
    "print(\"\\nVentas por clasificación ESRB en JP (Japón):\\n\", esrb_sales_jp)"
   ]
  },
  {
   "cell_type": "markdown",
   "metadata": {},
   "source": [
    "Por Rating podemos ver que el rating E lidera en todas las regiones. \n",
    "El mismo orden de rating lo podemos ver para NA y JP. \n",
    "EU tiene el rating M, T y E10+ al igual que las otras regiones en su top 5, destacando en su °5 lugar AO que no lo tienen las otras regiones."
   ]
  },
  {
   "cell_type": "markdown",
   "metadata": {},
   "source": [
    "##  Hipótesis"
   ]
  },
  {
   "cell_type": "code",
   "execution_count": 38,
   "metadata": {
    "trusted": false
   },
   "outputs": [
    {
     "name": "stdout",
     "output_type": "stream",
     "text": [
      "Valor p: 4.935072360183574e-06\n",
      "Rechazamos la hipótesis nula: Las calificaciones promedio son diferentes.\n",
      "Promedio de Xbox One: 6.521428571428572\n",
      "Promedio de PC: 7.062467532467533\n"
     ]
    }
   ],
   "source": [
    "#Las calificaciones promedio de los usuarios para las plataformas Xbox One y PC son las mismas.\n",
    "#H₀:AVGXO=AVGPC  \n",
    "#H₁:AVGXO≠AVGPC  \n",
    "\n",
    "xbox_one_scores = games_df[games_df['platform'] == 'XOne']['user_score']\n",
    "pc_scores = games_df[games_df['platform'] == 'PC']['user_score']\n",
    "\n",
    "mean_user_sc_xbo = xbox_one_scores.mean()\n",
    "mean_user_sc_pc = pc_scores.mean()\n",
    "\n",
    "from scipy import stats\n",
    "alpha = 0.05\n",
    "\n",
    "# Realizar una prueba t de dos muestras independientes\n",
    "t_stat, p_value = stats.ttest_ind(xbox_one_scores.dropna(), pc_scores.dropna(), equal_var=False)\n",
    "\n",
    "print(f'Valor p: {p_value}')\n",
    "\n",
    "# Comparar el valor p con el umbral\n",
    "if p_value < alpha:\n",
    "    print(\"Rechazamos la hipótesis nula: Las calificaciones promedio son diferentes.\")\n",
    "else:\n",
    "    print(\"No podemos rechazar la hipótesis nula: No hay evidencia suficiente para decir que las calificaciones promedio son diferentes.\")\n",
    "\n",
    "print(f'Promedio de Xbox One: {mean_user_sc_xbo}')\n",
    "print(f'Promedio de PC: {mean_user_sc_pc}')"
   ]
  },
  {
   "cell_type": "code",
   "execution_count": 39,
   "metadata": {
    "trusted": false
   },
   "outputs": [
    {
     "name": "stdout",
     "output_type": "stream",
     "text": [
      "Valor p: 0.11483818791498286\n",
      "No podemos rechazar la hipótesis nula: No hay evidencia suficiente para decir que las calificaciones promedio son diferentes.\n",
      "Promedio de Action: 7.054043715846995\n",
      "Promedio de Sports: 6.96119673617407\n"
     ]
    }
   ],
   "source": [
    "#Las calificaciones promedio de los usuarios para los géneros de Acción y Deportes son diferentes.\n",
    "#H₀:AVGAction=AVGSports  \n",
    "#H₁:AVGAction≠AVGSports \n",
    "\n",
    "action_scores = games_df[games_df['genre'] == 'Action']['user_score']\n",
    "sports_scores = games_df[games_df['genre'] == 'Sports']['user_score']\n",
    "\n",
    "mean_action_scores = action_scores.mean()\n",
    "mean_sports_scores = sports_scores.mean()\n",
    "\n",
    "from scipy import stats\n",
    "alpha = 0.05\n",
    "\n",
    "# Realizar una prueba t de dos muestras independientes\n",
    "t_stat, p_value = stats.ttest_ind(action_scores.dropna(), sports_scores.dropna(), equal_var=False)\n",
    "\n",
    "print(f'Valor p: {p_value}')\n",
    "\n",
    "# Comparar el valor p con el umbral\n",
    "if p_value < alpha:\n",
    "    print(\"Rechazamos la hipótesis nula: Las calificaciones promedio son diferentes.\")\n",
    "else:\n",
    "    print(\"No podemos rechazar la hipótesis nula: No hay evidencia suficiente para decir que las calificaciones promedio son diferentes.\")\n",
    "\n",
    "print(f'Promedio de Action: {mean_action_scores}')\n",
    "print(f'Promedio de Sports: {mean_sports_scores}')"
   ]
  },
  {
   "cell_type": "markdown",
   "metadata": {},
   "source": [
    "En ambas es una hipótesis de 2 colas, usando t-test, porque queremos probar si hay una diferencia significativa en cualquier dirección entre dos grupos. En otras palabras, no estamos interesados en saber si un grupo es específicamente mayor o menor que el otro, sino si hay cualquier tipo de diferencia.\n",
    "Donde se entiende en ambas lo siguiente:\n",
    "* Hipótesis Nula (H₀): La diferencia entre las medias de los dos grupos es igual a cero.\n",
    "H₀:μ1=μ2 \n",
    "\n",
    "* Hipótesis Alternativa (H₁): La diferencia entre las medias de los dos grupos no es igual a cero.\n",
    "H₁:μ1≠μ2"
   ]
  },
  {
   "cell_type": "markdown",
   "metadata": {},
   "source": [
    "## Conclusión general"
   ]
  },
  {
   "cell_type": "markdown",
   "metadata": {},
   "source": [
    "### Ciclo de vida de las plataformas:\n",
    "    \n",
    "La primeras 5 plataformas duraron más de 10 años de uso en el mercado, donde la PC es aún utilizada, llevando 31 años en el mercado. Donde los 5 más nuevas plataformas introducidas al mercado llevan menos de 10 años siendo utilizadas, siendo las más nuevas el PS4 y Xone con 3 años.\n",
    "Hay plataformas que muestran un 0 que se podría suponer debido a que su uso fue de meses, dentro del mismo año como es para GG, TG16 y PCFX, seguramente fueron un fracaso en el mercado y fueron descontinuadas.\n",
    "\n",
    "En la gráfica se observa:\n",
    "\n",
    "* El DS, tuvo un pico de ventas notable alrededor de 2007-2008 pero sus ventas cayeron rápidamente para el ~2009.\n",
    "\n",
    "* El GBA, entro al mercado por el 2000, tuvo ventas arriba de 50 millones de dolares pero sus ventas cayeron y su ciclo de vida termino en el 2008.\n",
    "\n",
    "* La PC, ha tenido un ciclo de vida prolongado, con ventas bajas a comparación de otras consolas, con un aumento después del 2006.\n",
    "\n",
    "* El PS, tuvo un rápido incremento de ventas luego de su introducción al mercado pero después de ~1997, sus ventas empezaron a caer, manteniéndose con un bajo nivel hasta el 2008.\n",
    "\n",
    "* El PS2, el más exitoso en ventas, ha tenido picos de ventas arriba de 200 millones de dolares, con un ciclo de vida de 11 años, terminando en el 2011.\n",
    "\n",
    "* El PS3, ha estado en el mercado desde el 2006, tuvo buenas ventas en el ~2012, muy parecidas al X360, igual sus ventas han caído y podría enfrentar la obsolescencia.\n",
    "\n",
    "* El PS4, ha estado en el mercado desde el 2013, tuvieron un pico de ventas en el ~2015 pero parece que las ventas están cayendo.\n",
    "\n",
    "* El PSP, su ciclo de vida comienza en el 2004 y termina en el 2015, no tuvo ventas tan significativas como las otras consolas.\n",
    "\n",
    "* El Wii,ha estado en el mercado desde el 2006, sus ventas rápidamente aumentaron a los ~200 millones de dólares, pero después de eso han caído rápidamente.\n",
    "\n",
    "* El X360, ha estado en el mercado desde el 2005, tuvo un pico de ventas arriba de 150 millones de dólares por el ~2011, después de eso sus ventas han caído, podría enfrentar la obsolescencia.\n",
    "\n",
    "### Ventas globales por plataforma\n",
    "\n",
    "El máximo del PS2 indica que fue la plataforma con mayores ventas pero la altura de la caja (IQR) también denota que hubo una mayor dispersión en las ventas. A pesar de tener el valor máximo de ventas, podemos observar que la mediana del PS3 fue más alta e inclusive se ve parecida a la de X360.\n",
    "El Wii de igual manera tuvo una dispersión grande de ventas, donde su valor máximo de  ventas estuvo muy cercano al PS2, pero su misma dispersión hace que su mediana sea más baja.\n",
    "El DS muestra una mediana de ventas cercana al PS2, PS4, X360. Pero la caja es relativamente corta, lo que sugiere que la mayoría de los juegos tuvieron ventas dentro de un rango más estrecho en comparación con PS2 o Wii.\n",
    "El PC tiene una mediana de ventas relativamente baja y una dispersión menor en comparación con las consolas.\n",
    "\n",
    "### Critic score y Ventas\n",
    "\n",
    "Hay una tendencia a que los juegos mejor valorados por la crítica vendan más, pero esta relación no es muy fuerte ni directa. Esto se puede observar en el gráfico, hay juegos que obtivieron una puntuación alta y tuvieron altas ventas, al igual que juegos que tuvieron una puntuación baja y ventas baja, sin embargo no está muy remarcado como una relación directa positiva y se ve en su correlación de 0.3954, siendo una correlación débil.\n",
    "\n",
    "### User Score y ventas\n",
    "\n",
    "La relación es muy débil con un coeficiente de 0.17. Donde se puede interpretar que la puntuación de los usuarios tiene una influencia mucho menor en las ventas totales en comparación con la opinión de los críticos.\n",
    "\n",
    "### Venta por videojuegos en la plataforma con más ventas (PS2)\n",
    "\n",
    "Los juegos más vendidos del PS2, se puede ver que Final Fantasy X, Gran Turismo 3: A-Spec, Gran Turismo 4, sólo tuvieron ventas registradas para el PS2.\n",
    "La venta más alta para el PS2 fue la del videojuego Grand Theft Auto: San Andreas, el cual también fue vendido en PC, PS2, X360 y XB.\n",
    "Mientras que Need for Speed Underground 2  fue vendido en más plataformas siendo vendido en DS, GBA, GC, PC, PS2 y XB.\n",
    "\n",
    "### Ventas totales por género y cantidad de juegos por género\n",
    "\n",
    "El líder en ventas es action por lo que tiene sentido que haya mayor cantidad de juegos del mismo. Lo mismo pasa con Sports, tiene alto número de ventas y existe una alta cantidad de juegos.\n",
    "Estrategia y puzzle tienen menos lanzamientos y generan menos ventas totales.\n",
    "La popularidad y el potencial de ingresos de un género pueden influir en la cantidad de juegos que se desarrollan y lanzan para ese género. Los desarrolladores tienden a invertir más en géneros que han demostrado ser comercialmente exitosos.\n",
    "\n",
    "### Análisis por región\n",
    "\n",
    "Para cada región la plataforma con más ventas registradas varia, aunque se puede observar que en NA y EU, el PS2 es de los 2 primeros que lidera las ventas.\n",
    "Entre NA y EU vemos que 4 de las plataformas más vendidas coniciden, aunque no en el mismo orden de venta. A diferencia con JP dónde vemos plataformas como el SNES y 3DS las cuales no vemos en las otras dos regiones.\n",
    "\n",
    "A excepción de JP dónde tiene el segundo lugar, podemos ver que por genéro, action, lidera en las regiones.\n",
    "En NA y EU, los 3 primeros lugares y el 5° coinciden, siendo action, sports, shooter y misc.\n",
    "JP, tiene en primer lugar Role-Playing, que no figura en las otras regiones en el top 5. Pero tiene al igual action, sports aunque en segundo y tercer lugar y misc igual en 5° lugar.\n",
    "\n",
    "Por Rating podemos ver que el rating E lidera en todas las regiones. \n",
    "El mismo orden de rating lo podemos ver para NA y JP. \n",
    "EU tiene el rating M, T y E10+ al igual que las otras regiones en su top 5, destacando en su °5 lugar AO que no lo tienen las otras regiones.\n",
    "\n",
    "\n",
    "En conjunto, este análisis revela la dinámica compleja del mercado de videojuegos, influenciada por el ciclo de vida de las plataformas, las preferencias de los consumidores, la recepción crítica, la disponibilidad multiplataforma y las tendencias regionales en cuanto a plataformas y géneros. La PS2 se destaca como una plataforma dominante en términos de ventas globales, mientras que el género de Acción lidera consistentemente en varias métricas y regiones."
   ]
  }
 ],
 "metadata": {
  "ExecuteTimeLog": [
   {
    "duration": 832,
    "start_time": "2025-04-02T22:31:00.545Z"
   },
   {
    "duration": 17,
    "start_time": "2025-04-02T22:34:53.593Z"
   },
   {
    "duration": 81,
    "start_time": "2025-04-02T22:35:01.115Z"
   },
   {
    "duration": 11,
    "start_time": "2025-04-02T22:38:18.609Z"
   },
   {
    "duration": 3,
    "start_time": "2025-04-02T22:38:27.913Z"
   },
   {
    "duration": 62,
    "start_time": "2025-04-02T22:39:16.618Z"
   },
   {
    "duration": 67,
    "start_time": "2025-04-02T22:40:06.071Z"
   },
   {
    "duration": 87,
    "start_time": "2025-04-02T22:40:55.158Z"
   },
   {
    "duration": 4,
    "start_time": "2025-04-02T22:41:29.566Z"
   },
   {
    "duration": 62,
    "start_time": "2025-04-02T22:41:57.645Z"
   },
   {
    "duration": 5,
    "start_time": "2025-04-02T22:45:19.472Z"
   },
   {
    "duration": 115,
    "start_time": "2025-04-02T22:45:27.843Z"
   },
   {
    "duration": 74,
    "start_time": "2025-04-02T22:47:51.356Z"
   },
   {
    "duration": 57,
    "start_time": "2025-04-02T22:50:49.989Z"
   },
   {
    "duration": 3,
    "start_time": "2025-04-02T22:51:18.333Z"
   },
   {
    "duration": 58,
    "start_time": "2025-04-02T22:55:28.609Z"
   },
   {
    "duration": 80,
    "start_time": "2025-04-02T22:56:13.080Z"
   },
   {
    "duration": 61,
    "start_time": "2025-04-02T22:56:35.785Z"
   },
   {
    "duration": 58,
    "start_time": "2025-04-02T22:59:55.026Z"
   },
   {
    "duration": 35,
    "start_time": "2025-04-02T23:02:41.599Z"
   },
   {
    "duration": 17,
    "start_time": "2025-04-02T23:02:46.146Z"
   },
   {
    "duration": 12,
    "start_time": "2025-04-02T23:03:15.294Z"
   },
   {
    "duration": 8,
    "start_time": "2025-04-02T23:03:21.219Z"
   },
   {
    "duration": 11,
    "start_time": "2025-04-02T23:07:05.151Z"
   },
   {
    "duration": 4,
    "start_time": "2025-04-02T23:08:35.376Z"
   },
   {
    "duration": 11,
    "start_time": "2025-04-02T23:10:18.113Z"
   },
   {
    "duration": 9,
    "start_time": "2025-04-02T23:10:32.058Z"
   },
   {
    "duration": 7,
    "start_time": "2025-04-02T23:14:21.704Z"
   },
   {
    "duration": 12,
    "start_time": "2025-04-02T23:15:02.764Z"
   },
   {
    "duration": 397,
    "start_time": "2025-04-02T23:35:33.858Z"
   },
   {
    "duration": 4,
    "start_time": "2025-04-02T23:35:58.368Z"
   },
   {
    "duration": 38,
    "start_time": "2025-04-03T00:14:59.381Z"
   },
   {
    "duration": 12,
    "start_time": "2025-04-03T00:15:10.745Z"
   },
   {
    "duration": 4,
    "start_time": "2025-04-03T00:15:19.879Z"
   },
   {
    "duration": 4,
    "start_time": "2025-04-03T00:33:23.078Z"
   },
   {
    "duration": 5,
    "start_time": "2025-04-03T00:48:01.418Z"
   },
   {
    "duration": 16,
    "start_time": "2025-04-03T00:50:59.074Z"
   },
   {
    "duration": 9,
    "start_time": "2025-04-03T00:51:35.875Z"
   },
   {
    "duration": 7,
    "start_time": "2025-04-03T00:52:09.558Z"
   },
   {
    "duration": 10,
    "start_time": "2025-04-03T01:12:00.372Z"
   },
   {
    "duration": 4,
    "start_time": "2025-04-03T01:12:00.558Z"
   },
   {
    "duration": 6,
    "start_time": "2025-04-03T01:12:00.766Z"
   },
   {
    "duration": 763,
    "start_time": "2025-04-03T01:12:00.924Z"
   },
   {
    "duration": 25,
    "start_time": "2025-04-03T01:13:00.028Z"
   },
   {
    "duration": 11,
    "start_time": "2025-04-03T01:13:00.631Z"
   },
   {
    "duration": 8,
    "start_time": "2025-04-03T01:13:00.912Z"
   },
   {
    "duration": 3,
    "start_time": "2025-04-03T01:13:01.159Z"
   },
   {
    "duration": 7,
    "start_time": "2025-04-03T01:13:01.337Z"
   },
   {
    "duration": 10,
    "start_time": "2025-04-03T01:13:01.750Z"
   },
   {
    "duration": 4,
    "start_time": "2025-04-03T01:13:01.936Z"
   },
   {
    "duration": 7,
    "start_time": "2025-04-03T01:13:02.148Z"
   },
   {
    "duration": 12,
    "start_time": "2025-04-03T01:13:02.336Z"
   },
   {
    "duration": 6,
    "start_time": "2025-04-03T01:13:18.152Z"
   },
   {
    "duration": 10,
    "start_time": "2025-04-03T01:14:58.217Z"
   },
   {
    "duration": 6,
    "start_time": "2025-04-03T01:15:01.335Z"
   },
   {
    "duration": 8,
    "start_time": "2025-04-03T01:19:44.744Z"
   },
   {
    "duration": 7,
    "start_time": "2025-04-03T01:26:05.124Z"
   },
   {
    "duration": 17,
    "start_time": "2025-04-03T01:30:38.869Z"
   },
   {
    "duration": 9,
    "start_time": "2025-04-03T01:30:46.095Z"
   },
   {
    "duration": 14,
    "start_time": "2025-04-03T01:32:49.328Z"
   },
   {
    "duration": 15,
    "start_time": "2025-04-03T01:35:33.184Z"
   },
   {
    "duration": 2145,
    "start_time": "2025-04-03T01:40:35.598Z"
   },
   {
    "duration": 188,
    "start_time": "2025-04-03T01:41:05.762Z"
   },
   {
    "duration": 367,
    "start_time": "2025-04-03T01:41:30.368Z"
   },
   {
    "duration": 195,
    "start_time": "2025-04-03T01:42:51.258Z"
   },
   {
    "duration": 5,
    "start_time": "2025-04-03T01:47:29.379Z"
   },
   {
    "duration": 9,
    "start_time": "2025-04-03T01:50:34.097Z"
   },
   {
    "duration": 9,
    "start_time": "2025-04-03T01:51:48.757Z"
   },
   {
    "duration": 386,
    "start_time": "2025-04-03T22:27:11.098Z"
   },
   {
    "duration": 12,
    "start_time": "2025-04-03T22:27:13.543Z"
   },
   {
    "duration": 10,
    "start_time": "2025-04-03T22:27:16.027Z"
   },
   {
    "duration": 4,
    "start_time": "2025-04-03T22:27:23.236Z"
   },
   {
    "duration": 8,
    "start_time": "2025-04-03T22:27:23.941Z"
   },
   {
    "duration": 13,
    "start_time": "2025-04-03T22:27:28.902Z"
   },
   {
    "duration": 5,
    "start_time": "2025-04-03T22:27:29.474Z"
   },
   {
    "duration": 8,
    "start_time": "2025-04-03T22:27:30.194Z"
   },
   {
    "duration": 22,
    "start_time": "2025-04-03T22:27:30.736Z"
   },
   {
    "duration": 7,
    "start_time": "2025-04-03T22:27:31.797Z"
   },
   {
    "duration": 10,
    "start_time": "2025-04-03T22:27:36.668Z"
   },
   {
    "duration": 6,
    "start_time": "2025-04-03T22:27:37.275Z"
   },
   {
    "duration": 12,
    "start_time": "2025-04-03T22:27:41.673Z"
   },
   {
    "duration": 2215,
    "start_time": "2025-04-03T22:27:42.104Z"
   },
   {
    "duration": 10,
    "start_time": "2025-04-03T22:27:44.497Z"
   },
   {
    "duration": 11,
    "start_time": "2025-04-03T23:28:49.967Z"
   },
   {
    "duration": 9,
    "start_time": "2025-04-03T23:32:51.988Z"
   },
   {
    "duration": 9,
    "start_time": "2025-04-03T23:34:38.734Z"
   },
   {
    "duration": 8,
    "start_time": "2025-04-03T23:34:49.798Z"
   },
   {
    "duration": 9,
    "start_time": "2025-04-03T23:35:37.756Z"
   },
   {
    "duration": 9,
    "start_time": "2025-04-03T23:37:26.003Z"
   },
   {
    "duration": 215,
    "start_time": "2025-04-03T23:53:05.131Z"
   },
   {
    "duration": 260,
    "start_time": "2025-04-03T23:58:22.157Z"
   },
   {
    "duration": 9,
    "start_time": "2025-04-03T23:58:47.013Z"
   },
   {
    "duration": 5,
    "start_time": "2025-04-03T23:59:00.327Z"
   },
   {
    "duration": 155,
    "start_time": "2025-04-03T23:59:21.451Z"
   },
   {
    "duration": 178,
    "start_time": "2025-04-03T23:59:45.222Z"
   },
   {
    "duration": 1184,
    "start_time": "2025-04-04T00:11:05.753Z"
   },
   {
    "duration": 433,
    "start_time": "2025-04-04T00:11:53.636Z"
   },
   {
    "duration": 15,
    "start_time": "2025-04-04T00:27:11.751Z"
   },
   {
    "duration": 16,
    "start_time": "2025-04-04T00:27:55.237Z"
   },
   {
    "duration": 16,
    "start_time": "2025-04-04T00:28:48.758Z"
   },
   {
    "duration": 17,
    "start_time": "2025-04-04T00:29:02.670Z"
   },
   {
    "duration": 15,
    "start_time": "2025-04-04T00:29:10.201Z"
   },
   {
    "duration": 9,
    "start_time": "2025-04-04T00:30:17.231Z"
   },
   {
    "duration": 177,
    "start_time": "2025-04-04T00:33:46.751Z"
   },
   {
    "duration": 34,
    "start_time": "2025-04-04T00:36:01.686Z"
   },
   {
    "duration": 176,
    "start_time": "2025-04-04T00:37:11.106Z"
   },
   {
    "duration": 8,
    "start_time": "2025-04-04T00:37:19.072Z"
   },
   {
    "duration": 214,
    "start_time": "2025-04-04T00:43:14.350Z"
   },
   {
    "duration": 24,
    "start_time": "2025-04-04T00:48:44.027Z"
   },
   {
    "duration": 12,
    "start_time": "2025-04-04T00:48:44.346Z"
   },
   {
    "duration": 8,
    "start_time": "2025-04-04T00:48:44.503Z"
   },
   {
    "duration": 3,
    "start_time": "2025-04-04T00:48:44.659Z"
   },
   {
    "duration": 7,
    "start_time": "2025-04-04T00:48:44.817Z"
   },
   {
    "duration": 12,
    "start_time": "2025-04-04T00:48:45.127Z"
   },
   {
    "duration": 5,
    "start_time": "2025-04-04T00:48:45.280Z"
   },
   {
    "duration": 7,
    "start_time": "2025-04-04T00:48:45.447Z"
   },
   {
    "duration": 14,
    "start_time": "2025-04-04T00:48:45.601Z"
   },
   {
    "duration": 8,
    "start_time": "2025-04-04T00:48:45.765Z"
   },
   {
    "duration": 9,
    "start_time": "2025-04-04T00:48:46.108Z"
   },
   {
    "duration": 6,
    "start_time": "2025-04-04T00:48:46.275Z"
   },
   {
    "duration": 12,
    "start_time": "2025-04-04T00:48:46.467Z"
   },
   {
    "duration": 192,
    "start_time": "2025-04-04T00:48:46.636Z"
   },
   {
    "duration": 10,
    "start_time": "2025-04-04T00:48:46.832Z"
   },
   {
    "duration": 6,
    "start_time": "2025-04-04T00:48:47.228Z"
   },
   {
    "duration": 3035,
    "start_time": "2025-04-04T00:52:36.715Z"
   },
   {
    "duration": 2936,
    "start_time": "2025-04-04T00:53:24.526Z"
   },
   {
    "duration": 3007,
    "start_time": "2025-04-04T00:57:37.415Z"
   },
   {
    "duration": 2841,
    "start_time": "2025-04-04T00:57:56.037Z"
   },
   {
    "duration": 2806,
    "start_time": "2025-04-04T00:59:04.335Z"
   },
   {
    "duration": 176,
    "start_time": "2025-04-04T01:13:26.074Z"
   },
   {
    "duration": 172,
    "start_time": "2025-04-04T01:15:11.535Z"
   },
   {
    "duration": 19,
    "start_time": "2025-04-04T01:15:26.334Z"
   },
   {
    "duration": 1151,
    "start_time": "2025-04-04T01:16:29.438Z"
   },
   {
    "duration": 1239,
    "start_time": "2025-04-04T01:21:56.379Z"
   },
   {
    "duration": 301,
    "start_time": "2025-04-04T01:26:14.325Z"
   },
   {
    "duration": 6,
    "start_time": "2025-04-04T01:29:40.179Z"
   },
   {
    "duration": 4,
    "start_time": "2025-04-04T01:31:29.760Z"
   },
   {
    "duration": 2,
    "start_time": "2025-04-04T01:32:11.150Z"
   },
   {
    "duration": 267,
    "start_time": "2025-04-04T01:32:14.077Z"
   },
   {
    "duration": 4,
    "start_time": "2025-04-04T01:32:38.559Z"
   },
   {
    "duration": 132,
    "start_time": "2025-04-04T01:32:41.625Z"
   },
   {
    "duration": 2,
    "start_time": "2025-04-04T01:32:45.071Z"
   },
   {
    "duration": 249,
    "start_time": "2025-04-04T01:32:47.070Z"
   },
   {
    "duration": 3,
    "start_time": "2025-04-04T01:33:32.947Z"
   },
   {
    "duration": 256,
    "start_time": "2025-04-04T01:33:34.198Z"
   },
   {
    "duration": 4,
    "start_time": "2025-04-04T01:33:50.235Z"
   },
   {
    "duration": 2,
    "start_time": "2025-04-04T01:33:53.873Z"
   },
   {
    "duration": 251,
    "start_time": "2025-04-04T01:33:55.057Z"
   },
   {
    "duration": 9,
    "start_time": "2025-04-04T01:35:27.222Z"
   },
   {
    "duration": 346,
    "start_time": "2025-04-04T01:35:53.619Z"
   },
   {
    "duration": 12,
    "start_time": "2025-04-04T01:35:53.967Z"
   },
   {
    "duration": 10,
    "start_time": "2025-04-04T01:35:53.987Z"
   },
   {
    "duration": 4,
    "start_time": "2025-04-04T01:35:53.999Z"
   },
   {
    "duration": 8,
    "start_time": "2025-04-04T01:35:54.005Z"
   },
   {
    "duration": 12,
    "start_time": "2025-04-04T01:35:54.014Z"
   },
   {
    "duration": 5,
    "start_time": "2025-04-04T01:35:54.027Z"
   },
   {
    "duration": 6,
    "start_time": "2025-04-04T01:35:54.034Z"
   },
   {
    "duration": 51,
    "start_time": "2025-04-04T01:35:54.042Z"
   },
   {
    "duration": 7,
    "start_time": "2025-04-04T01:35:54.096Z"
   },
   {
    "duration": 9,
    "start_time": "2025-04-04T01:35:54.106Z"
   },
   {
    "duration": 5,
    "start_time": "2025-04-04T01:35:54.117Z"
   },
   {
    "duration": 15,
    "start_time": "2025-04-04T01:35:54.123Z"
   },
   {
    "duration": 427,
    "start_time": "2025-04-04T01:35:54.140Z"
   },
   {
    "duration": 10,
    "start_time": "2025-04-04T01:35:54.569Z"
   },
   {
    "duration": 5,
    "start_time": "2025-04-04T01:35:54.581Z"
   },
   {
    "duration": 6,
    "start_time": "2025-04-04T01:35:54.588Z"
   },
   {
    "duration": 5,
    "start_time": "2025-04-04T01:35:54.595Z"
   },
   {
    "duration": 3,
    "start_time": "2025-04-04T01:35:54.601Z"
   },
   {
    "duration": 685,
    "start_time": "2025-04-04T01:35:54.605Z"
   },
   {
    "duration": 3,
    "start_time": "2025-04-04T01:46:52.319Z"
   },
   {
    "duration": 269,
    "start_time": "2025-04-04T01:46:53.012Z"
   },
   {
    "duration": 277,
    "start_time": "2025-04-04T01:50:52.818Z"
   },
   {
    "duration": 160,
    "start_time": "2025-04-04T16:59:21.766Z"
   },
   {
    "duration": 329,
    "start_time": "2025-04-04T16:59:42.683Z"
   },
   {
    "duration": 17,
    "start_time": "2025-04-04T16:59:43.018Z"
   },
   {
    "duration": 11,
    "start_time": "2025-04-04T16:59:43.038Z"
   },
   {
    "duration": 3,
    "start_time": "2025-04-04T16:59:43.051Z"
   },
   {
    "duration": 6,
    "start_time": "2025-04-04T16:59:43.056Z"
   },
   {
    "duration": 10,
    "start_time": "2025-04-04T16:59:43.065Z"
   },
   {
    "duration": 34,
    "start_time": "2025-04-04T16:59:43.078Z"
   },
   {
    "duration": 7,
    "start_time": "2025-04-04T16:59:43.114Z"
   },
   {
    "duration": 12,
    "start_time": "2025-04-04T16:59:43.123Z"
   },
   {
    "duration": 7,
    "start_time": "2025-04-04T16:59:43.138Z"
   },
   {
    "duration": 10,
    "start_time": "2025-04-04T16:59:43.147Z"
   },
   {
    "duration": 6,
    "start_time": "2025-04-04T16:59:43.159Z"
   },
   {
    "duration": 49,
    "start_time": "2025-04-04T16:59:43.167Z"
   },
   {
    "duration": 35,
    "start_time": "2025-04-04T16:59:43.218Z"
   },
   {
    "duration": 0,
    "start_time": "2025-04-04T16:59:43.254Z"
   },
   {
    "duration": 0,
    "start_time": "2025-04-04T16:59:43.255Z"
   },
   {
    "duration": 19,
    "start_time": "2025-04-04T16:59:53.528Z"
   },
   {
    "duration": 26,
    "start_time": "2025-04-04T16:59:57.092Z"
   },
   {
    "duration": 17,
    "start_time": "2025-04-04T16:59:57.121Z"
   },
   {
    "duration": 11,
    "start_time": "2025-04-04T16:59:57.140Z"
   },
   {
    "duration": 5,
    "start_time": "2025-04-04T16:59:57.153Z"
   },
   {
    "duration": 8,
    "start_time": "2025-04-04T16:59:57.160Z"
   },
   {
    "duration": 11,
    "start_time": "2025-04-04T16:59:57.170Z"
   },
   {
    "duration": 28,
    "start_time": "2025-04-04T16:59:57.184Z"
   },
   {
    "duration": 17,
    "start_time": "2025-04-04T16:59:57.214Z"
   },
   {
    "duration": 17,
    "start_time": "2025-04-04T16:59:57.233Z"
   },
   {
    "duration": 12,
    "start_time": "2025-04-04T16:59:57.254Z"
   },
   {
    "duration": 10,
    "start_time": "2025-04-04T16:59:57.271Z"
   },
   {
    "duration": 6,
    "start_time": "2025-04-04T16:59:57.283Z"
   },
   {
    "duration": 29,
    "start_time": "2025-04-04T16:59:57.291Z"
   },
   {
    "duration": 12,
    "start_time": "2025-04-04T16:59:57.324Z"
   },
   {
    "duration": 1,
    "start_time": "2025-04-04T16:59:57.338Z"
   },
   {
    "duration": 0,
    "start_time": "2025-04-04T16:59:57.340Z"
   },
   {
    "duration": 23,
    "start_time": "2025-04-04T17:00:03.144Z"
   },
   {
    "duration": 15,
    "start_time": "2025-04-04T17:00:03.170Z"
   },
   {
    "duration": 8,
    "start_time": "2025-04-04T17:00:03.186Z"
   },
   {
    "duration": 3,
    "start_time": "2025-04-04T17:00:03.197Z"
   },
   {
    "duration": 11,
    "start_time": "2025-04-04T17:00:03.202Z"
   },
   {
    "duration": 14,
    "start_time": "2025-04-04T17:00:03.216Z"
   },
   {
    "duration": 4,
    "start_time": "2025-04-04T17:00:03.231Z"
   },
   {
    "duration": 6,
    "start_time": "2025-04-04T17:00:03.237Z"
   },
   {
    "duration": 13,
    "start_time": "2025-04-04T17:00:03.245Z"
   },
   {
    "duration": 7,
    "start_time": "2025-04-04T17:00:03.261Z"
   },
   {
    "duration": 43,
    "start_time": "2025-04-04T17:00:03.269Z"
   },
   {
    "duration": 8,
    "start_time": "2025-04-04T17:00:03.314Z"
   },
   {
    "duration": 16,
    "start_time": "2025-04-04T17:00:03.324Z"
   },
   {
    "duration": 13,
    "start_time": "2025-04-04T17:00:03.342Z"
   },
   {
    "duration": 0,
    "start_time": "2025-04-04T17:00:03.356Z"
   },
   {
    "duration": 12,
    "start_time": "2025-04-04T17:00:06.686Z"
   },
   {
    "duration": 2468,
    "start_time": "2025-04-04T17:00:51.968Z"
   },
   {
    "duration": 18,
    "start_time": "2025-04-04T17:01:21.940Z"
   },
   {
    "duration": 10,
    "start_time": "2025-04-04T17:02:14.880Z"
   },
   {
    "duration": 4,
    "start_time": "2025-04-04T17:09:45.584Z"
   },
   {
    "duration": 16,
    "start_time": "2025-04-04T17:10:30.292Z"
   },
   {
    "duration": 12,
    "start_time": "2025-04-04T17:20:56.283Z"
   },
   {
    "duration": 13,
    "start_time": "2025-04-04T17:23:41.124Z"
   },
   {
    "duration": 23,
    "start_time": "2025-04-04T17:26:28.067Z"
   },
   {
    "duration": 11,
    "start_time": "2025-04-04T17:26:48.258Z"
   },
   {
    "duration": 12,
    "start_time": "2025-04-04T17:27:09.560Z"
   },
   {
    "duration": 12,
    "start_time": "2025-04-04T17:27:35.413Z"
   },
   {
    "duration": 16,
    "start_time": "2025-04-04T17:36:17.632Z"
   },
   {
    "duration": 9,
    "start_time": "2025-04-04T17:38:53.625Z"
   },
   {
    "duration": 13,
    "start_time": "2025-04-04T17:39:07.781Z"
   },
   {
    "duration": 14,
    "start_time": "2025-04-04T17:40:54.750Z"
   },
   {
    "duration": 11,
    "start_time": "2025-04-04T17:42:23.504Z"
   },
   {
    "duration": 13,
    "start_time": "2025-04-04T17:44:38.452Z"
   },
   {
    "duration": 14,
    "start_time": "2025-04-04T17:45:21.938Z"
   },
   {
    "duration": 14,
    "start_time": "2025-04-04T17:54:20.049Z"
   },
   {
    "duration": 293,
    "start_time": "2025-04-04T17:54:26.023Z"
   },
   {
    "duration": 233,
    "start_time": "2025-04-04T17:55:36.826Z"
   },
   {
    "duration": 181,
    "start_time": "2025-04-04T18:02:34.781Z"
   },
   {
    "duration": 17,
    "start_time": "2025-04-04T18:03:06.418Z"
   },
   {
    "duration": 50,
    "start_time": "2025-04-04T18:04:35.657Z"
   },
   {
    "duration": 12,
    "start_time": "2025-04-04T18:10:44.385Z"
   },
   {
    "duration": 224,
    "start_time": "2025-04-04T18:10:48.062Z"
   },
   {
    "duration": 40,
    "start_time": "2025-04-04T18:10:57.707Z"
   },
   {
    "duration": 40,
    "start_time": "2025-04-04T18:11:11.094Z"
   },
   {
    "duration": 100,
    "start_time": "2025-04-04T18:12:55.703Z"
   },
   {
    "duration": 53,
    "start_time": "2025-04-04T18:13:15.693Z"
   },
   {
    "duration": 72,
    "start_time": "2025-04-04T18:14:06.526Z"
   },
   {
    "duration": 354,
    "start_time": "2025-04-04T18:14:17.584Z"
   },
   {
    "duration": 198,
    "start_time": "2025-04-04T18:15:01.666Z"
   },
   {
    "duration": 193,
    "start_time": "2025-04-04T18:15:28.550Z"
   },
   {
    "duration": 41,
    "start_time": "2025-04-04T18:16:16.269Z"
   },
   {
    "duration": 42,
    "start_time": "2025-04-04T18:16:44.803Z"
   },
   {
    "duration": 40,
    "start_time": "2025-04-04T18:17:05.386Z"
   },
   {
    "duration": 185,
    "start_time": "2025-04-04T18:17:56.776Z"
   },
   {
    "duration": 201,
    "start_time": "2025-04-04T18:18:57.294Z"
   },
   {
    "duration": 293,
    "start_time": "2025-04-04T18:19:41.440Z"
   },
   {
    "duration": 6,
    "start_time": "2025-04-04T18:20:37.949Z"
   },
   {
    "duration": 8,
    "start_time": "2025-04-04T18:21:47.656Z"
   },
   {
    "duration": 5,
    "start_time": "2025-04-04T18:22:00.139Z"
   },
   {
    "duration": 337,
    "start_time": "2025-04-04T18:24:53.957Z"
   },
   {
    "duration": 16,
    "start_time": "2025-04-04T18:24:54.296Z"
   },
   {
    "duration": 10,
    "start_time": "2025-04-04T18:24:54.314Z"
   },
   {
    "duration": 4,
    "start_time": "2025-04-04T18:24:54.326Z"
   },
   {
    "duration": 11,
    "start_time": "2025-04-04T18:24:54.332Z"
   },
   {
    "duration": 14,
    "start_time": "2025-04-04T18:24:54.344Z"
   },
   {
    "duration": 5,
    "start_time": "2025-04-04T18:24:54.359Z"
   },
   {
    "duration": 8,
    "start_time": "2025-04-04T18:24:54.366Z"
   },
   {
    "duration": 46,
    "start_time": "2025-04-04T18:24:54.375Z"
   },
   {
    "duration": 9,
    "start_time": "2025-04-04T18:24:54.424Z"
   },
   {
    "duration": 10,
    "start_time": "2025-04-04T18:24:54.434Z"
   },
   {
    "duration": 5,
    "start_time": "2025-04-04T18:24:54.447Z"
   },
   {
    "duration": 8,
    "start_time": "2025-04-04T18:24:54.454Z"
   },
   {
    "duration": 50,
    "start_time": "2025-04-04T18:24:54.465Z"
   },
   {
    "duration": 878,
    "start_time": "2025-04-04T18:24:54.518Z"
   },
   {
    "duration": 11,
    "start_time": "2025-04-04T18:24:55.398Z"
   },
   {
    "duration": 3,
    "start_time": "2025-04-04T18:24:55.411Z"
   },
   {
    "duration": 4,
    "start_time": "2025-04-04T18:25:44.998Z"
   },
   {
    "duration": 8,
    "start_time": "2025-04-04T18:26:05.508Z"
   },
   {
    "duration": 907,
    "start_time": "2025-04-04T18:26:34.879Z"
   },
   {
    "duration": 955,
    "start_time": "2025-04-04T18:28:48.503Z"
   },
   {
    "duration": 833,
    "start_time": "2025-04-04T18:28:59.467Z"
   },
   {
    "duration": 646,
    "start_time": "2025-04-04T18:29:19.481Z"
   },
   {
    "duration": 9,
    "start_time": "2025-04-04T18:30:53.840Z"
   },
   {
    "duration": 764,
    "start_time": "2025-04-04T18:32:58.387Z"
   },
   {
    "duration": 10,
    "start_time": "2025-04-04T18:35:14.900Z"
   },
   {
    "duration": 277,
    "start_time": "2025-04-04T18:35:22.430Z"
   },
   {
    "duration": 203,
    "start_time": "2025-04-04T18:35:37.338Z"
   },
   {
    "duration": 238,
    "start_time": "2025-04-04T18:35:47.611Z"
   },
   {
    "duration": 382,
    "start_time": "2025-04-04T18:37:02.553Z"
   },
   {
    "duration": 159,
    "start_time": "2025-04-04T18:37:21.271Z"
   },
   {
    "duration": 154,
    "start_time": "2025-04-04T18:37:34.782Z"
   },
   {
    "duration": 230,
    "start_time": "2025-04-04T18:38:24.506Z"
   },
   {
    "duration": 199,
    "start_time": "2025-04-04T18:38:44.884Z"
   },
   {
    "duration": 215,
    "start_time": "2025-04-04T18:39:17.200Z"
   },
   {
    "duration": 244,
    "start_time": "2025-04-04T18:39:33.747Z"
   },
   {
    "duration": 220,
    "start_time": "2025-04-04T18:39:46.366Z"
   },
   {
    "duration": 208,
    "start_time": "2025-04-04T18:39:59.916Z"
   },
   {
    "duration": 195,
    "start_time": "2025-04-04T18:41:55.398Z"
   },
   {
    "duration": 267,
    "start_time": "2025-04-04T18:42:05.661Z"
   },
   {
    "duration": 186,
    "start_time": "2025-04-04T18:42:15.536Z"
   },
   {
    "duration": 190,
    "start_time": "2025-04-04T18:42:25.337Z"
   },
   {
    "duration": 460,
    "start_time": "2025-04-04T18:46:03.445Z"
   },
   {
    "duration": 53,
    "start_time": "2025-04-04T18:46:07.852Z"
   },
   {
    "duration": 25,
    "start_time": "2025-04-04T18:47:56.925Z"
   },
   {
    "duration": 17,
    "start_time": "2025-04-04T18:48:41.584Z"
   },
   {
    "duration": 47,
    "start_time": "2025-04-04T18:51:30.452Z"
   },
   {
    "duration": 19,
    "start_time": "2025-04-04T18:55:25.511Z"
   },
   {
    "duration": 17,
    "start_time": "2025-04-04T18:55:45.752Z"
   },
   {
    "duration": 20,
    "start_time": "2025-04-04T19:03:32.757Z"
   },
   {
    "duration": 23,
    "start_time": "2025-04-04T19:06:04.952Z"
   },
   {
    "duration": 9,
    "start_time": "2025-04-04T19:06:50.291Z"
   },
   {
    "duration": 8,
    "start_time": "2025-04-04T19:07:57.038Z"
   },
   {
    "duration": 6,
    "start_time": "2025-04-04T19:09:39.530Z"
   },
   {
    "duration": 107,
    "start_time": "2025-04-04T19:11:51.054Z"
   },
   {
    "duration": 23,
    "start_time": "2025-04-04T19:16:15.011Z"
   },
   {
    "duration": 15,
    "start_time": "2025-04-04T19:17:21.064Z"
   },
   {
    "duration": 14,
    "start_time": "2025-04-04T19:20:59.051Z"
   },
   {
    "duration": 214,
    "start_time": "2025-04-04T19:21:09.630Z"
   },
   {
    "duration": 193,
    "start_time": "2025-04-04T19:21:23.901Z"
   },
   {
    "duration": 112,
    "start_time": "2025-04-04T19:22:17.600Z"
   },
   {
    "duration": 341,
    "start_time": "2025-04-04T19:23:54.023Z"
   },
   {
    "duration": 11,
    "start_time": "2025-04-04T19:23:54.366Z"
   },
   {
    "duration": 11,
    "start_time": "2025-04-04T19:23:54.378Z"
   },
   {
    "duration": 3,
    "start_time": "2025-04-04T19:23:54.392Z"
   },
   {
    "duration": 8,
    "start_time": "2025-04-04T19:23:54.411Z"
   },
   {
    "duration": 13,
    "start_time": "2025-04-04T19:23:54.422Z"
   },
   {
    "duration": 4,
    "start_time": "2025-04-04T19:23:54.437Z"
   },
   {
    "duration": 7,
    "start_time": "2025-04-04T19:23:54.443Z"
   },
   {
    "duration": 9,
    "start_time": "2025-04-04T19:23:54.452Z"
   },
   {
    "duration": 7,
    "start_time": "2025-04-04T19:23:54.465Z"
   },
   {
    "duration": 41,
    "start_time": "2025-04-04T19:23:54.473Z"
   },
   {
    "duration": 5,
    "start_time": "2025-04-04T19:23:54.516Z"
   },
   {
    "duration": 6,
    "start_time": "2025-04-04T19:23:54.523Z"
   },
   {
    "duration": 12,
    "start_time": "2025-04-04T19:23:54.531Z"
   },
   {
    "duration": 784,
    "start_time": "2025-04-04T19:23:54.544Z"
   },
   {
    "duration": 9,
    "start_time": "2025-04-04T19:23:55.330Z"
   },
   {
    "duration": 245,
    "start_time": "2025-04-04T19:23:55.340Z"
   },
   {
    "duration": 126,
    "start_time": "2025-04-04T19:23:55.587Z"
   },
   {
    "duration": 361,
    "start_time": "2025-04-05T23:52:07.400Z"
   },
   {
    "duration": 11,
    "start_time": "2025-04-05T23:52:07.763Z"
   },
   {
    "duration": 9,
    "start_time": "2025-04-05T23:52:07.777Z"
   },
   {
    "duration": 3,
    "start_time": "2025-04-05T23:52:07.787Z"
   },
   {
    "duration": 7,
    "start_time": "2025-04-05T23:52:07.792Z"
   },
   {
    "duration": 11,
    "start_time": "2025-04-05T23:52:07.800Z"
   },
   {
    "duration": 4,
    "start_time": "2025-04-05T23:52:07.812Z"
   },
   {
    "duration": 7,
    "start_time": "2025-04-05T23:52:07.818Z"
   },
   {
    "duration": 46,
    "start_time": "2025-04-05T23:52:07.827Z"
   },
   {
    "duration": 8,
    "start_time": "2025-04-05T23:52:07.875Z"
   },
   {
    "duration": 8,
    "start_time": "2025-04-05T23:52:07.884Z"
   },
   {
    "duration": 6,
    "start_time": "2025-04-05T23:52:07.894Z"
   },
   {
    "duration": 7,
    "start_time": "2025-04-05T23:52:07.901Z"
   },
   {
    "duration": 12,
    "start_time": "2025-04-05T23:52:07.911Z"
   },
   {
    "duration": 2605,
    "start_time": "2025-04-05T23:52:07.925Z"
   },
   {
    "duration": 10,
    "start_time": "2025-04-05T23:52:10.532Z"
   },
   {
    "duration": 248,
    "start_time": "2025-04-05T23:52:10.544Z"
   },
   {
    "duration": 129,
    "start_time": "2025-04-05T23:52:10.793Z"
   },
   {
    "duration": 113,
    "start_time": "2025-04-05T23:53:35.985Z"
   },
   {
    "duration": 370,
    "start_time": "2025-04-06T22:13:14.810Z"
   },
   {
    "duration": 11,
    "start_time": "2025-04-06T22:13:15.183Z"
   },
   {
    "duration": 9,
    "start_time": "2025-04-06T22:13:15.196Z"
   },
   {
    "duration": 4,
    "start_time": "2025-04-06T22:13:15.207Z"
   },
   {
    "duration": 7,
    "start_time": "2025-04-06T22:13:15.213Z"
   },
   {
    "duration": 11,
    "start_time": "2025-04-06T22:13:15.221Z"
   },
   {
    "duration": 5,
    "start_time": "2025-04-06T22:13:15.234Z"
   },
   {
    "duration": 7,
    "start_time": "2025-04-06T22:13:15.241Z"
   },
   {
    "duration": 45,
    "start_time": "2025-04-06T22:13:15.250Z"
   },
   {
    "duration": 8,
    "start_time": "2025-04-06T22:13:15.297Z"
   },
   {
    "duration": 8,
    "start_time": "2025-04-06T22:13:15.307Z"
   },
   {
    "duration": 6,
    "start_time": "2025-04-06T22:13:15.316Z"
   },
   {
    "duration": 7,
    "start_time": "2025-04-06T22:13:15.324Z"
   },
   {
    "duration": 53,
    "start_time": "2025-04-06T22:13:15.334Z"
   },
   {
    "duration": 2642,
    "start_time": "2025-04-06T22:13:15.389Z"
   },
   {
    "duration": 10,
    "start_time": "2025-04-06T22:13:18.033Z"
   },
   {
    "duration": 214,
    "start_time": "2025-04-06T22:13:18.046Z"
   },
   {
    "duration": 131,
    "start_time": "2025-04-06T22:13:18.262Z"
   },
   {
    "duration": 139,
    "start_time": "2025-04-06T22:13:34.655Z"
   },
   {
    "duration": 956,
    "start_time": "2025-04-06T22:15:23.147Z"
   },
   {
    "duration": 200,
    "start_time": "2025-04-06T22:18:02.846Z"
   },
   {
    "duration": 197,
    "start_time": "2025-04-06T22:24:32.041Z"
   },
   {
    "duration": 181,
    "start_time": "2025-04-06T22:24:55.705Z"
   },
   {
    "duration": 190,
    "start_time": "2025-04-06T22:25:12.853Z"
   },
   {
    "duration": 181,
    "start_time": "2025-04-06T22:25:21.865Z"
   },
   {
    "duration": 470,
    "start_time": "2025-04-06T22:39:03.964Z"
   },
   {
    "duration": 304,
    "start_time": "2025-04-06T22:44:41.001Z"
   },
   {
    "duration": 529,
    "start_time": "2025-04-06T22:44:57.481Z"
   },
   {
    "duration": 472,
    "start_time": "2025-04-06T22:45:56.651Z"
   },
   {
    "duration": 442,
    "start_time": "2025-04-06T22:46:14.016Z"
   },
   {
    "duration": 672,
    "start_time": "2025-04-06T22:56:02.884Z"
   },
   {
    "duration": 638,
    "start_time": "2025-04-06T23:01:28.869Z"
   },
   {
    "duration": 669,
    "start_time": "2025-04-06T23:14:37.230Z"
   },
   {
    "duration": 10,
    "start_time": "2025-04-06T23:33:08.281Z"
   },
   {
    "duration": 11,
    "start_time": "2025-04-06T23:35:09.193Z"
   },
   {
    "duration": 12,
    "start_time": "2025-04-06T23:38:08.436Z"
   },
   {
    "duration": 661,
    "start_time": "2025-04-06T23:41:24.200Z"
   },
   {
    "duration": 793,
    "start_time": "2025-04-06T23:41:55.614Z"
   },
   {
    "duration": 12,
    "start_time": "2025-04-07T00:00:44.317Z"
   },
   {
    "duration": 18,
    "start_time": "2025-04-07T00:24:26.449Z"
   },
   {
    "duration": 23,
    "start_time": "2025-04-07T00:24:50.199Z"
   },
   {
    "duration": 10,
    "start_time": "2025-04-07T00:29:28.312Z"
   },
   {
    "duration": 9,
    "start_time": "2025-04-07T00:34:46.667Z"
   },
   {
    "duration": 10,
    "start_time": "2025-04-07T00:35:09.654Z"
   },
   {
    "duration": 9,
    "start_time": "2025-04-07T00:39:16.360Z"
   },
   {
    "duration": 9,
    "start_time": "2025-04-07T00:40:58.978Z"
   },
   {
    "duration": 10,
    "start_time": "2025-04-07T00:41:07.179Z"
   },
   {
    "duration": 3,
    "start_time": "2025-04-07T00:46:39.878Z"
   },
   {
    "duration": 163,
    "start_time": "2025-04-07T04:01:13.094Z"
   },
   {
    "duration": 43057,
    "start_time": "2025-04-07T04:01:29.767Z"
   },
   {
    "duration": 23,
    "start_time": "2025-04-07T04:53:50.720Z"
   },
   {
    "duration": 6,
    "start_time": "2025-04-07T04:54:45.071Z"
   },
   {
    "duration": 420,
    "start_time": "2025-04-07T04:57:40.429Z"
   },
   {
    "duration": 12,
    "start_time": "2025-04-07T04:57:40.851Z"
   },
   {
    "duration": 8,
    "start_time": "2025-04-07T04:57:40.865Z"
   },
   {
    "duration": 3,
    "start_time": "2025-04-07T04:57:40.874Z"
   },
   {
    "duration": 29,
    "start_time": "2025-04-07T04:57:40.880Z"
   },
   {
    "duration": 10,
    "start_time": "2025-04-07T04:57:40.910Z"
   },
   {
    "duration": 4,
    "start_time": "2025-04-07T04:57:40.922Z"
   },
   {
    "duration": 7,
    "start_time": "2025-04-07T04:57:40.927Z"
   },
   {
    "duration": 10,
    "start_time": "2025-04-07T04:57:40.935Z"
   },
   {
    "duration": 7,
    "start_time": "2025-04-07T04:57:40.947Z"
   },
   {
    "duration": 8,
    "start_time": "2025-04-07T04:57:40.955Z"
   },
   {
    "duration": 45,
    "start_time": "2025-04-07T04:57:40.965Z"
   },
   {
    "duration": 9,
    "start_time": "2025-04-07T04:57:41.011Z"
   },
   {
    "duration": 13,
    "start_time": "2025-04-07T04:57:41.023Z"
   },
   {
    "duration": 797,
    "start_time": "2025-04-07T04:57:41.038Z"
   },
   {
    "duration": 9,
    "start_time": "2025-04-07T04:57:41.836Z"
   },
   {
    "duration": 217,
    "start_time": "2025-04-07T04:57:41.847Z"
   },
   {
    "duration": 120,
    "start_time": "2025-04-07T04:57:42.066Z"
   },
   {
    "duration": 427,
    "start_time": "2025-04-07T04:57:42.188Z"
   },
   {
    "duration": 0,
    "start_time": "2025-04-07T04:57:42.617Z"
   },
   {
    "duration": 0,
    "start_time": "2025-04-07T04:57:42.619Z"
   },
   {
    "duration": 0,
    "start_time": "2025-04-07T04:57:42.619Z"
   },
   {
    "duration": 0,
    "start_time": "2025-04-07T04:57:42.621Z"
   },
   {
    "duration": 0,
    "start_time": "2025-04-07T04:57:42.622Z"
   },
   {
    "duration": 0,
    "start_time": "2025-04-07T04:57:42.624Z"
   },
   {
    "duration": 0,
    "start_time": "2025-04-07T04:57:42.625Z"
   },
   {
    "duration": 294,
    "start_time": "2025-04-07T04:58:01.979Z"
   },
   {
    "duration": 14,
    "start_time": "2025-04-07T04:58:02.275Z"
   },
   {
    "duration": 19,
    "start_time": "2025-04-07T04:58:02.291Z"
   },
   {
    "duration": 3,
    "start_time": "2025-04-07T04:58:02.311Z"
   },
   {
    "duration": 6,
    "start_time": "2025-04-07T04:58:02.316Z"
   },
   {
    "duration": 10,
    "start_time": "2025-04-07T04:58:02.324Z"
   },
   {
    "duration": 4,
    "start_time": "2025-04-07T04:58:02.335Z"
   },
   {
    "duration": 6,
    "start_time": "2025-04-07T04:58:02.341Z"
   },
   {
    "duration": 10,
    "start_time": "2025-04-07T04:58:02.349Z"
   },
   {
    "duration": 7,
    "start_time": "2025-04-07T04:58:02.361Z"
   },
   {
    "duration": 7,
    "start_time": "2025-04-07T04:58:02.408Z"
   },
   {
    "duration": 5,
    "start_time": "2025-04-07T04:58:02.417Z"
   },
   {
    "duration": 6,
    "start_time": "2025-04-07T04:58:02.424Z"
   },
   {
    "duration": 12,
    "start_time": "2025-04-07T04:58:02.434Z"
   },
   {
    "duration": 803,
    "start_time": "2025-04-07T04:58:02.448Z"
   },
   {
    "duration": 8,
    "start_time": "2025-04-07T04:58:03.253Z"
   },
   {
    "duration": 252,
    "start_time": "2025-04-07T04:58:03.264Z"
   },
   {
    "duration": 140,
    "start_time": "2025-04-07T04:58:03.517Z"
   },
   {
    "duration": 408,
    "start_time": "2025-04-07T04:58:03.658Z"
   },
   {
    "duration": 0,
    "start_time": "2025-04-07T04:58:04.068Z"
   },
   {
    "duration": 0,
    "start_time": "2025-04-07T04:58:04.069Z"
   },
   {
    "duration": 0,
    "start_time": "2025-04-07T04:58:04.070Z"
   },
   {
    "duration": 0,
    "start_time": "2025-04-07T04:58:04.071Z"
   },
   {
    "duration": 0,
    "start_time": "2025-04-07T04:58:04.072Z"
   },
   {
    "duration": 0,
    "start_time": "2025-04-07T04:58:04.074Z"
   },
   {
    "duration": 0,
    "start_time": "2025-04-07T04:58:04.075Z"
   },
   {
    "duration": 331,
    "start_time": "2025-04-07T04:58:10.471Z"
   },
   {
    "duration": 642,
    "start_time": "2025-04-07T04:58:13.875Z"
   },
   {
    "duration": 10,
    "start_time": "2025-04-07T04:58:18.958Z"
   },
   {
    "duration": 10,
    "start_time": "2025-04-07T04:58:19.314Z"
   },
   {
    "duration": 11,
    "start_time": "2025-04-07T04:58:19.655Z"
   },
   {
    "duration": 81,
    "start_time": "2025-04-07T04:58:20.186Z"
   },
   {
    "duration": 9,
    "start_time": "2025-04-07T04:58:20.345Z"
   }
  ],
  "kernelspec": {
   "display_name": "Python 3",
   "language": "python",
   "name": "python3"
  },
  "language_info": {
   "codemirror_mode": {
    "name": "ipython",
    "version": 3
   },
   "file_extension": ".py",
   "mimetype": "text/x-python",
   "name": "python",
   "nbconvert_exporter": "python",
   "pygments_lexer": "ipython3",
   "version": "3.13.3"
  },
  "toc": {
   "base_numbering": 1,
   "nav_menu": {},
   "number_sections": true,
   "sideBar": true,
   "skip_h1_title": true,
   "title_cell": "Table of Contents",
   "title_sidebar": "Contents",
   "toc_cell": false,
   "toc_position": {},
   "toc_section_display": true,
   "toc_window_display": false
  }
 },
 "nbformat": 4,
 "nbformat_minor": 2
}
